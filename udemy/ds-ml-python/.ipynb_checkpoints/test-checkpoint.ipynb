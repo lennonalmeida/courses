{
 "cells": [
  {
   "cell_type": "code",
   "execution_count": 1,
   "metadata": {},
   "outputs": [],
   "source": [
    "s = \"ola, lennon\"\n"
   ]
  },
  {
   "cell_type": "code",
   "execution_count": 2,
   "metadata": {},
   "outputs": [
    {
     "data": {
      "text/plain": [
       "['ola', ' lennon']"
      ]
     },
     "execution_count": 2,
     "metadata": {},
     "output_type": "execute_result"
    }
   ],
   "source": [
    "s.split(',')"
   ]
  },
  {
   "cell_type": "code",
   "execution_count": 3,
   "metadata": {},
   "outputs": [
    {
     "name": "stdout",
     "output_type": "stream",
     "text": [
      "O diâmetro da terra é de 12742 kilômetros.\n"
     ]
    }
   ],
   "source": [
    "planeta = \"Terra\"\n",
    "diametro = 12742\n",
    "print(\"O diâmetro da {planeta} é de {d} kilômetros.\".format(planeta=planeta.lower(), d=diametro))"
   ]
  },
  {
   "cell_type": "code",
   "execution_count": 4,
   "metadata": {},
   "outputs": [],
   "source": [
    "lst = [1,2,[3,4],[5,[100,200,['olá']],23,11],1,7]"
   ]
  },
  {
   "cell_type": "code",
   "execution_count": 9,
   "metadata": {},
   "outputs": [
    {
     "name": "stdout",
     "output_type": "stream",
     "text": [
      "1\n",
      "2\n",
      "[3, 4]\n",
      "[5, [100, 200, ['olá']], 23, 11]\n",
      "1\n",
      "7\n"
     ]
    }
   ],
   "source": [
    "for i in range(len(lst)):\n",
    "    print (lst[i])"
   ]
  },
  {
   "cell_type": "code",
   "execution_count": 8,
   "metadata": {},
   "outputs": [
    {
     "data": {
      "text/plain": [
       "1"
      ]
     },
     "execution_count": 8,
     "metadata": {},
     "output_type": "execute_result"
    }
   ],
   "source": [
    "lst[i]"
   ]
  },
  {
   "cell_type": "code",
   "execution_count": 16,
   "metadata": {},
   "outputs": [
    {
     "data": {
      "text/plain": [
       "['olá']"
      ]
     },
     "execution_count": 16,
     "metadata": {},
     "output_type": "execute_result"
    }
   ],
   "source": [
    "lst[3][1][2]"
   ]
  },
  {
   "cell_type": "code",
   "execution_count": 17,
   "metadata": {},
   "outputs": [],
   "source": [
    "d = {'k1':[1,2,3,{'café':['banana','mulher','colher',{'alvo':[1,2,3,'olá']}]}]}"
   ]
  },
  {
   "cell_type": "code",
   "execution_count": 19,
   "metadata": {},
   "outputs": [
    {
     "ename": "TypeError",
     "evalue": "'dict' object is not callable",
     "output_type": "error",
     "traceback": [
      "\u001b[1;31m---------------------------------------------------------------------------\u001b[0m",
      "\u001b[1;31mTypeError\u001b[0m                                 Traceback (most recent call last)",
      "\u001b[1;32m<ipython-input-19-ac6b1a05aad9>\u001b[0m in \u001b[0;36m<module>\u001b[1;34m\u001b[0m\n\u001b[1;32m----> 1\u001b[1;33m \u001b[0md\u001b[0m\u001b[1;33m(\u001b[0m\u001b[1;36m1\u001b[0m\u001b[1;33m)\u001b[0m\u001b[1;33m\u001b[0m\u001b[1;33m\u001b[0m\u001b[0m\n\u001b[0m",
      "\u001b[1;31mTypeError\u001b[0m: 'dict' object is not callable"
     ]
    }
   ],
   "source": [
    "d(1)"
   ]
  },
  {
   "cell_type": "code",
   "execution_count": 20,
   "metadata": {},
   "outputs": [
    {
     "ename": "NameError",
     "evalue": "name 'k1' is not defined",
     "output_type": "error",
     "traceback": [
      "\u001b[1;31m---------------------------------------------------------------------------\u001b[0m",
      "\u001b[1;31mNameError\u001b[0m                                 Traceback (most recent call last)",
      "\u001b[1;32m<ipython-input-20-1615bcaef1d4>\u001b[0m in \u001b[0;36m<module>\u001b[1;34m\u001b[0m\n\u001b[1;32m----> 1\u001b[1;33m \u001b[0md\u001b[0m\u001b[1;33m(\u001b[0m\u001b[0mk1\u001b[0m\u001b[1;33m)\u001b[0m\u001b[1;33m\u001b[0m\u001b[1;33m\u001b[0m\u001b[0m\n\u001b[0m",
      "\u001b[1;31mNameError\u001b[0m: name 'k1' is not defined"
     ]
    }
   ],
   "source": [
    "d(k1)"
   ]
  },
  {
   "cell_type": "code",
   "execution_count": 21,
   "metadata": {},
   "outputs": [
    {
     "ename": "AttributeError",
     "evalue": "'dict' object has no attribute 'k1'",
     "output_type": "error",
     "traceback": [
      "\u001b[1;31m---------------------------------------------------------------------------\u001b[0m",
      "\u001b[1;31mAttributeError\u001b[0m                            Traceback (most recent call last)",
      "\u001b[1;32m<ipython-input-21-4e4a301f0fa5>\u001b[0m in \u001b[0;36m<module>\u001b[1;34m\u001b[0m\n\u001b[1;32m----> 1\u001b[1;33m \u001b[0md\u001b[0m\u001b[1;33m.\u001b[0m\u001b[0mk1\u001b[0m\u001b[1;33m\u001b[0m\u001b[1;33m\u001b[0m\u001b[0m\n\u001b[0m",
      "\u001b[1;31mAttributeError\u001b[0m: 'dict' object has no attribute 'k1'"
     ]
    }
   ],
   "source": [
    "d.k1"
   ]
  },
  {
   "cell_type": "code",
   "execution_count": 22,
   "metadata": {},
   "outputs": [
    {
     "data": {
      "text/plain": [
       "{'k1': [1,\n",
       "  2,\n",
       "  3,\n",
       "  {'café': ['banana', 'mulher', 'colher', {'alvo': [1, 2, 3, 'olá']}]}]}"
      ]
     },
     "execution_count": 22,
     "metadata": {},
     "output_type": "execute_result"
    }
   ],
   "source": [
    "d\n"
   ]
  },
  {
   "cell_type": "code",
   "execution_count": 36,
   "metadata": {},
   "outputs": [
    {
     "data": {
      "text/plain": [
       "'olá'"
      ]
     },
     "execution_count": 36,
     "metadata": {},
     "output_type": "execute_result"
    }
   ],
   "source": [
    "d['k1'][3]['café'][3]['alvo'][3]"
   ]
  },
  {
   "cell_type": "code",
   "execution_count": 44,
   "metadata": {},
   "outputs": [],
   "source": [
    "def obterDominio(email):\n",
    "    email = email.split('@')\n",
    "    return email[1]\n",
    "    "
   ]
  },
  {
   "cell_type": "code",
   "execution_count": 45,
   "metadata": {},
   "outputs": [
    {
     "data": {
      "text/plain": [
       "'gmail.com'"
      ]
     },
     "execution_count": 45,
     "metadata": {},
     "output_type": "execute_result"
    }
   ],
   "source": [
    "obterDominio('lennon@gmail.com')"
   ]
  },
  {
   "cell_type": "code",
   "execution_count": 46,
   "metadata": {},
   "outputs": [
    {
     "data": {
      "text/plain": [
       "True"
      ]
     },
     "execution_count": 46,
     "metadata": {},
     "output_type": "execute_result"
    }
   ],
   "source": [
    "a = 'ola cachorro'\n",
    "'cachorro' in a"
   ]
  },
  {
   "cell_type": "code",
   "execution_count": 47,
   "metadata": {},
   "outputs": [],
   "source": [
    "def encontreCachorro(text):\n",
    "    return 'cachorro' in text"
   ]
  },
  {
   "cell_type": "code",
   "execution_count": 49,
   "metadata": {},
   "outputs": [
    {
     "data": {
      "text/plain": [
       "True"
      ]
     },
     "execution_count": 49,
     "metadata": {},
     "output_type": "execute_result"
    }
   ],
   "source": [
    "encontreCachorro('ola cachorro cachorro')"
   ]
  },
  {
   "cell_type": "code",
   "execution_count": 79,
   "metadata": {},
   "outputs": [],
   "source": [
    "j = 0\n",
    "def contaCachorro(text):\n",
    "    text = text.split()\n",
    "    for i in range(len(text)):\n",
    "        if 'cachorro' in text[i]:\n",
    "            j = j+1    \n",
    "    return j"
   ]
  },
  {
   "cell_type": "code",
   "execution_count": 56,
   "metadata": {},
   "outputs": [],
   "source": [
    "text = 'cachoro cachorro'"
   ]
  },
  {
   "cell_type": "code",
   "execution_count": 57,
   "metadata": {},
   "outputs": [],
   "source": [
    "text = text.split()"
   ]
  },
  {
   "cell_type": "code",
   "execution_count": 58,
   "metadata": {},
   "outputs": [
    {
     "data": {
      "text/plain": [
       "['cachoro', 'cachorro']"
      ]
     },
     "execution_count": 58,
     "metadata": {},
     "output_type": "execute_result"
    }
   ],
   "source": [
    "text"
   ]
  },
  {
   "cell_type": "code",
   "execution_count": 59,
   "metadata": {},
   "outputs": [
    {
     "data": {
      "text/plain": [
       "2"
      ]
     },
     "execution_count": 59,
     "metadata": {},
     "output_type": "execute_result"
    }
   ],
   "source": [
    "len(text)"
   ]
  },
  {
   "cell_type": "code",
   "execution_count": 76,
   "metadata": {},
   "outputs": [
    {
     "name": "stdout",
     "output_type": "stream",
     "text": [
      "0\n"
     ]
    }
   ],
   "source": [
    "i, j = 0, 0\n",
    "for i in range(len(text)-1):\n",
    "        if 'cachorro' in text[i]:\n",
    "            j = j+1\n",
    "print(j)"
   ]
  },
  {
   "cell_type": "code",
   "execution_count": 71,
   "metadata": {},
   "outputs": [
    {
     "data": {
      "text/plain": [
       "0"
      ]
     },
     "execution_count": 71,
     "metadata": {},
     "output_type": "execute_result"
    }
   ],
   "source": [
    "j"
   ]
  },
  {
   "cell_type": "code",
   "execution_count": 63,
   "metadata": {},
   "outputs": [
    {
     "data": {
      "text/plain": [
       "False"
      ]
     },
     "execution_count": 63,
     "metadata": {},
     "output_type": "execute_result"
    }
   ],
   "source": [
    "'cachorro' in text[0]"
   ]
  },
  {
   "cell_type": "code",
   "execution_count": 81,
   "metadata": {},
   "outputs": [
    {
     "ename": "UnboundLocalError",
     "evalue": "local variable 'j' referenced before assignment",
     "output_type": "error",
     "traceback": [
      "\u001b[1;31m---------------------------------------------------------------------------\u001b[0m",
      "\u001b[1;31mUnboundLocalError\u001b[0m                         Traceback (most recent call last)",
      "\u001b[1;32m<ipython-input-81-7d1034fae666>\u001b[0m in \u001b[0;36m<module>\u001b[1;34m\u001b[0m\n\u001b[1;32m----> 1\u001b[1;33m \u001b[0mcontaCachorro\u001b[0m\u001b[1;33m(\u001b[0m\u001b[1;34m'cachorro'\u001b[0m\u001b[1;33m)\u001b[0m\u001b[1;33m\u001b[0m\u001b[1;33m\u001b[0m\u001b[0m\n\u001b[0m",
      "\u001b[1;32m<ipython-input-79-9dab36ac01da>\u001b[0m in \u001b[0;36mcontaCachorro\u001b[1;34m(text)\u001b[0m\n\u001b[0;32m      4\u001b[0m     \u001b[1;32mfor\u001b[0m \u001b[0mi\u001b[0m \u001b[1;32min\u001b[0m \u001b[0mrange\u001b[0m\u001b[1;33m(\u001b[0m\u001b[0mlen\u001b[0m\u001b[1;33m(\u001b[0m\u001b[0mtext\u001b[0m\u001b[1;33m)\u001b[0m\u001b[1;33m)\u001b[0m\u001b[1;33m:\u001b[0m\u001b[1;33m\u001b[0m\u001b[1;33m\u001b[0m\u001b[0m\n\u001b[0;32m      5\u001b[0m         \u001b[1;32mif\u001b[0m \u001b[1;34m'cachorro'\u001b[0m \u001b[1;32min\u001b[0m \u001b[0mtext\u001b[0m\u001b[1;33m[\u001b[0m\u001b[0mi\u001b[0m\u001b[1;33m]\u001b[0m\u001b[1;33m:\u001b[0m\u001b[1;33m\u001b[0m\u001b[1;33m\u001b[0m\u001b[0m\n\u001b[1;32m----> 6\u001b[1;33m             \u001b[0mj\u001b[0m \u001b[1;33m=\u001b[0m \u001b[0mj\u001b[0m\u001b[1;33m+\u001b[0m\u001b[1;36m1\u001b[0m\u001b[1;33m\u001b[0m\u001b[1;33m\u001b[0m\u001b[0m\n\u001b[0m\u001b[0;32m      7\u001b[0m     \u001b[1;32mreturn\u001b[0m \u001b[0mj\u001b[0m\u001b[1;33m\u001b[0m\u001b[1;33m\u001b[0m\u001b[0m\n",
      "\u001b[1;31mUnboundLocalError\u001b[0m: local variable 'j' referenced before assignment"
     ]
    }
   ],
   "source": [
    "contaCachorro('cachorro')"
   ]
  },
  {
   "cell_type": "code",
   "execution_count": 84,
   "metadata": {},
   "outputs": [],
   "source": [
    "def contaCachorro(text):\n",
    "    j = 0\n",
    "    text = text.split()\n",
    "    for i in range(len(text)):\n",
    "        if 'cachorro' in text[i]:\n",
    "            j = j+1    \n",
    "    return j"
   ]
  },
  {
   "cell_type": "code",
   "execution_count": 87,
   "metadata": {},
   "outputs": [
    {
     "data": {
      "text/plain": [
       "1"
      ]
     },
     "execution_count": 87,
     "metadata": {},
     "output_type": "execute_result"
    }
   ],
   "source": [
    "contaCachorro('cachorro cachoro')"
   ]
  },
  {
   "cell_type": "code",
   "execution_count": 88,
   "metadata": {},
   "outputs": [],
   "source": [
    "seq = ['sopa','cachorro','salada','gato','ótimo']"
   ]
  },
  {
   "cell_type": "code",
   "execution_count": 95,
   "metadata": {},
   "outputs": [
    {
     "data": {
      "text/plain": [
       "['sopa', 'salada']"
      ]
     },
     "execution_count": 95,
     "metadata": {},
     "output_type": "execute_result"
    }
   ],
   "source": [
    "list(filter(lambda s: s[0] == 's', seq))"
   ]
  },
  {
   "cell_type": "code",
   "execution_count": 97,
   "metadata": {},
   "outputs": [],
   "source": [
    "def capturar_velocidade(speed, is_birth):\n",
    "    a, b = 60, 80\n",
    "    if is_birth:\n",
    "        a, b = 65, 85\n",
    "    if speed <= a:\n",
    "        return \"Sem multa\"\n",
    "    elif speed<=b and speed > a:\n",
    "        return \"Multa Pequena\"\n",
    "    else:\n",
    "        return \"Multa Grande\"\n",
    "    \n",
    "    "
   ]
  },
  {
   "cell_type": "code",
   "execution_count": 100,
   "metadata": {},
   "outputs": [
    {
     "data": {
      "text/plain": [
       "'Sem multa'"
      ]
     },
     "execution_count": 100,
     "metadata": {},
     "output_type": "execute_result"
    }
   ],
   "source": [
    "capturar_velocidade(65, True)"
   ]
  },
  {
   "cell_type": "code",
   "execution_count": 101,
   "metadata": {},
   "outputs": [
    {
     "data": {
      "text/plain": [
       "'Multa Pequena'"
      ]
     },
     "execution_count": 101,
     "metadata": {},
     "output_type": "execute_result"
    }
   ],
   "source": [
    "capturar_velocidade(81, True)"
   ]
  },
  {
   "cell_type": "code",
   "execution_count": 1,
   "metadata": {},
   "outputs": [],
   "source": [
    "import pandas as pd"
   ]
  },
  {
   "cell_type": "code",
   "execution_count": 2,
   "metadata": {},
   "outputs": [],
   "source": [
    "ecom = pd.read_csv('Ecommerce Purchases')"
   ]
  },
  {
   "cell_type": "code",
   "execution_count": 3,
   "metadata": {},
   "outputs": [
    {
     "data": {
      "text/html": [
       "<div>\n",
       "<style scoped>\n",
       "    .dataframe tbody tr th:only-of-type {\n",
       "        vertical-align: middle;\n",
       "    }\n",
       "\n",
       "    .dataframe tbody tr th {\n",
       "        vertical-align: top;\n",
       "    }\n",
       "\n",
       "    .dataframe thead th {\n",
       "        text-align: right;\n",
       "    }\n",
       "</style>\n",
       "<table border=\"1\" class=\"dataframe\">\n",
       "  <thead>\n",
       "    <tr style=\"text-align: right;\">\n",
       "      <th></th>\n",
       "      <th>Address</th>\n",
       "      <th>Lot</th>\n",
       "      <th>AM or PM</th>\n",
       "      <th>Browser Info</th>\n",
       "      <th>Company</th>\n",
       "      <th>Credit Card</th>\n",
       "      <th>CC Exp Date</th>\n",
       "      <th>CC Security Code</th>\n",
       "      <th>CC Provider</th>\n",
       "      <th>Email</th>\n",
       "      <th>Job</th>\n",
       "      <th>IP Address</th>\n",
       "      <th>Language</th>\n",
       "      <th>Purchase Price</th>\n",
       "    </tr>\n",
       "  </thead>\n",
       "  <tbody>\n",
       "    <tr>\n",
       "      <th>0</th>\n",
       "      <td>16629 Pace Camp Apt. 448\\nAlexisborough, NE 77...</td>\n",
       "      <td>46 in</td>\n",
       "      <td>PM</td>\n",
       "      <td>Opera/9.56.(X11; Linux x86_64; sl-SI) Presto/2...</td>\n",
       "      <td>Martinez-Herman</td>\n",
       "      <td>6011929061123406</td>\n",
       "      <td>02/20</td>\n",
       "      <td>900</td>\n",
       "      <td>JCB 16 digit</td>\n",
       "      <td>pdunlap@yahoo.com</td>\n",
       "      <td>Scientist, product/process development</td>\n",
       "      <td>149.146.147.205</td>\n",
       "      <td>el</td>\n",
       "      <td>98.14</td>\n",
       "    </tr>\n",
       "    <tr>\n",
       "      <th>1</th>\n",
       "      <td>9374 Jasmine Spurs Suite 508\\nSouth John, TN 8...</td>\n",
       "      <td>28 rn</td>\n",
       "      <td>PM</td>\n",
       "      <td>Opera/8.93.(Windows 98; Win 9x 4.90; en-US) Pr...</td>\n",
       "      <td>Fletcher, Richards and Whitaker</td>\n",
       "      <td>3337758169645356</td>\n",
       "      <td>11/18</td>\n",
       "      <td>561</td>\n",
       "      <td>Mastercard</td>\n",
       "      <td>anthony41@reed.com</td>\n",
       "      <td>Drilling engineer</td>\n",
       "      <td>15.160.41.51</td>\n",
       "      <td>fr</td>\n",
       "      <td>70.73</td>\n",
       "    </tr>\n",
       "    <tr>\n",
       "      <th>2</th>\n",
       "      <td>Unit 0065 Box 5052\\nDPO AP 27450</td>\n",
       "      <td>94 vE</td>\n",
       "      <td>PM</td>\n",
       "      <td>Mozilla/5.0 (compatible; MSIE 9.0; Windows NT ...</td>\n",
       "      <td>Simpson, Williams and Pham</td>\n",
       "      <td>675957666125</td>\n",
       "      <td>08/19</td>\n",
       "      <td>699</td>\n",
       "      <td>JCB 16 digit</td>\n",
       "      <td>amymiller@morales-harrison.com</td>\n",
       "      <td>Customer service manager</td>\n",
       "      <td>132.207.160.22</td>\n",
       "      <td>de</td>\n",
       "      <td>0.95</td>\n",
       "    </tr>\n",
       "    <tr>\n",
       "      <th>3</th>\n",
       "      <td>7780 Julia Fords\\nNew Stacy, WA 45798</td>\n",
       "      <td>36 vm</td>\n",
       "      <td>PM</td>\n",
       "      <td>Mozilla/5.0 (Macintosh; Intel Mac OS X 10_8_0 ...</td>\n",
       "      <td>Williams, Marshall and Buchanan</td>\n",
       "      <td>6011578504430710</td>\n",
       "      <td>02/24</td>\n",
       "      <td>384</td>\n",
       "      <td>Discover</td>\n",
       "      <td>brent16@olson-robinson.info</td>\n",
       "      <td>Drilling engineer</td>\n",
       "      <td>30.250.74.19</td>\n",
       "      <td>es</td>\n",
       "      <td>78.04</td>\n",
       "    </tr>\n",
       "    <tr>\n",
       "      <th>4</th>\n",
       "      <td>23012 Munoz Drive Suite 337\\nNew Cynthia, TX 5...</td>\n",
       "      <td>20 IE</td>\n",
       "      <td>AM</td>\n",
       "      <td>Opera/9.58.(X11; Linux x86_64; it-IT) Presto/2...</td>\n",
       "      <td>Brown, Watson and Andrews</td>\n",
       "      <td>6011456623207998</td>\n",
       "      <td>10/25</td>\n",
       "      <td>678</td>\n",
       "      <td>Diners Club / Carte Blanche</td>\n",
       "      <td>christopherwright@gmail.com</td>\n",
       "      <td>Fine artist</td>\n",
       "      <td>24.140.33.94</td>\n",
       "      <td>es</td>\n",
       "      <td>77.82</td>\n",
       "    </tr>\n",
       "  </tbody>\n",
       "</table>\n",
       "</div>"
      ],
      "text/plain": [
       "                                             Address    Lot AM or PM  \\\n",
       "0  16629 Pace Camp Apt. 448\\nAlexisborough, NE 77...  46 in       PM   \n",
       "1  9374 Jasmine Spurs Suite 508\\nSouth John, TN 8...  28 rn       PM   \n",
       "2                   Unit 0065 Box 5052\\nDPO AP 27450  94 vE       PM   \n",
       "3              7780 Julia Fords\\nNew Stacy, WA 45798  36 vm       PM   \n",
       "4  23012 Munoz Drive Suite 337\\nNew Cynthia, TX 5...  20 IE       AM   \n",
       "\n",
       "                                        Browser Info  \\\n",
       "0  Opera/9.56.(X11; Linux x86_64; sl-SI) Presto/2...   \n",
       "1  Opera/8.93.(Windows 98; Win 9x 4.90; en-US) Pr...   \n",
       "2  Mozilla/5.0 (compatible; MSIE 9.0; Windows NT ...   \n",
       "3  Mozilla/5.0 (Macintosh; Intel Mac OS X 10_8_0 ...   \n",
       "4  Opera/9.58.(X11; Linux x86_64; it-IT) Presto/2...   \n",
       "\n",
       "                           Company       Credit Card CC Exp Date  \\\n",
       "0                  Martinez-Herman  6011929061123406       02/20   \n",
       "1  Fletcher, Richards and Whitaker  3337758169645356       11/18   \n",
       "2       Simpson, Williams and Pham      675957666125       08/19   \n",
       "3  Williams, Marshall and Buchanan  6011578504430710       02/24   \n",
       "4        Brown, Watson and Andrews  6011456623207998       10/25   \n",
       "\n",
       "   CC Security Code                  CC Provider  \\\n",
       "0               900                 JCB 16 digit   \n",
       "1               561                   Mastercard   \n",
       "2               699                 JCB 16 digit   \n",
       "3               384                     Discover   \n",
       "4               678  Diners Club / Carte Blanche   \n",
       "\n",
       "                            Email                                     Job  \\\n",
       "0               pdunlap@yahoo.com  Scientist, product/process development   \n",
       "1              anthony41@reed.com                       Drilling engineer   \n",
       "2  amymiller@morales-harrison.com                Customer service manager   \n",
       "3     brent16@olson-robinson.info                       Drilling engineer   \n",
       "4     christopherwright@gmail.com                             Fine artist   \n",
       "\n",
       "        IP Address Language  Purchase Price  \n",
       "0  149.146.147.205       el           98.14  \n",
       "1     15.160.41.51       fr           70.73  \n",
       "2   132.207.160.22       de            0.95  \n",
       "3     30.250.74.19       es           78.04  \n",
       "4     24.140.33.94       es           77.82  "
      ]
     },
     "execution_count": 3,
     "metadata": {},
     "output_type": "execute_result"
    }
   ],
   "source": [
    "ecom.info()"
   ]
  },
  {
   "cell_type": "code",
   "execution_count": 4,
   "metadata": {},
   "outputs": [
    {
     "name": "stdout",
     "output_type": "stream",
     "text": [
      "<class 'pandas.core.frame.DataFrame'>\n",
      "RangeIndex: 10000 entries, 0 to 9999\n",
      "Data columns (total 14 columns):\n",
      "Address             10000 non-null object\n",
      "Lot                 10000 non-null object\n",
      "AM or PM            10000 non-null object\n",
      "Browser Info        10000 non-null object\n",
      "Company             10000 non-null object\n",
      "Credit Card         10000 non-null int64\n",
      "CC Exp Date         10000 non-null object\n",
      "CC Security Code    10000 non-null int64\n",
      "CC Provider         10000 non-null object\n",
      "Email               10000 non-null object\n",
      "Job                 10000 non-null object\n",
      "IP Address          10000 non-null object\n",
      "Language            10000 non-null object\n",
      "Purchase Price      10000 non-null float64\n",
      "dtypes: float64(1), int64(2), object(11)\n",
      "memory usage: 1.1+ MB\n"
     ]
    }
   ],
   "source": [
    "ecom.info()"
   ]
  },
  {
   "cell_type": "code",
   "execution_count": 5,
   "metadata": {},
   "outputs": [
    {
     "data": {
      "text/plain": [
       "50.34730200000025"
      ]
     },
     "execution_count": 5,
     "metadata": {},
     "output_type": "execute_result"
    }
   ],
   "source": [
    "ecom['Purchase Price'].mean()"
   ]
  },
  {
   "cell_type": "code",
   "execution_count": 6,
   "metadata": {},
   "outputs": [
    {
     "data": {
      "text/plain": [
       "99.99"
      ]
     },
     "execution_count": 6,
     "metadata": {},
     "output_type": "execute_result"
    }
   ],
   "source": [
    "ecom['Purchase Price'].max()"
   ]
  },
  {
   "cell_type": "code",
   "execution_count": 7,
   "metadata": {},
   "outputs": [
    {
     "data": {
      "text/plain": [
       "0.0"
      ]
     },
     "execution_count": 7,
     "metadata": {},
     "output_type": "execute_result"
    }
   ],
   "source": [
    "ecom['Purchase Price'].min()"
   ]
  },
  {
   "cell_type": "code",
   "execution_count": 12,
   "metadata": {},
   "outputs": [
    {
     "data": {
      "text/plain": [
       "1098"
      ]
     },
     "execution_count": 12,
     "metadata": {},
     "output_type": "execute_result"
    }
   ],
   "source": [
    "len(ecom[ecom['Language']=='en'])"
   ]
  },
  {
   "cell_type": "code",
   "execution_count": 19,
   "metadata": {},
   "outputs": [
    {
     "data": {
      "text/plain": [
       "0       False\n",
       "1       False\n",
       "2       False\n",
       "3       False\n",
       "4       False\n",
       "5       False\n",
       "6       False\n",
       "7       False\n",
       "8       False\n",
       "9       False\n",
       "10      False\n",
       "11      False\n",
       "12      False\n",
       "13      False\n",
       "14      False\n",
       "15      False\n",
       "16      False\n",
       "17      False\n",
       "18      False\n",
       "19      False\n",
       "20      False\n",
       "21      False\n",
       "22      False\n",
       "23      False\n",
       "24      False\n",
       "25      False\n",
       "26      False\n",
       "27      False\n",
       "28      False\n",
       "29      False\n",
       "        ...  \n",
       "9970    False\n",
       "9971    False\n",
       "9972    False\n",
       "9973    False\n",
       "9974    False\n",
       "9975    False\n",
       "9976    False\n",
       "9977    False\n",
       "9978    False\n",
       "9979     True\n",
       "9980    False\n",
       "9981    False\n",
       "9982    False\n",
       "9983    False\n",
       "9984    False\n",
       "9985    False\n",
       "9986    False\n",
       "9987    False\n",
       "9988    False\n",
       "9989    False\n",
       "9990    False\n",
       "9991    False\n",
       "9992    False\n",
       "9993    False\n",
       "9994    False\n",
       "9995    False\n",
       "9996    False\n",
       "9997    False\n",
       "9998    False\n",
       "9999    False\n",
       "Name: Job, Length: 10000, dtype: bool"
      ]
     },
     "execution_count": 19,
     "metadata": {},
     "output_type": "execute_result"
    }
   ],
   "source": [
    "ecom['Job'] == 'Lawyer'"
   ]
  },
  {
   "cell_type": "code",
   "execution_count": 21,
   "metadata": {},
   "outputs": [
    {
     "data": {
      "text/plain": [
       "PM    5068\n",
       "AM    4932\n",
       "Name: AM or PM, dtype: int64"
      ]
     },
     "execution_count": 21,
     "metadata": {},
     "output_type": "execute_result"
    }
   ],
   "source": [
    "ecom['AM or PM'].value_counts()"
   ]
  },
  {
   "cell_type": "code",
   "execution_count": 23,
   "metadata": {},
   "outputs": [
    {
     "data": {
      "text/plain": [
       "Index(['Address', 'Lot', 'AM or PM', 'Browser Info', 'Company', 'Credit Card',\n",
       "       'CC Exp Date', 'CC Security Code', 'CC Provider', 'Email', 'Job',\n",
       "       'IP Address', 'Language', 'Purchase Price'],\n",
       "      dtype='object')"
      ]
     },
     "execution_count": 23,
     "metadata": {},
     "output_type": "execute_result"
    }
   ],
   "source": [
    "ecom.columns"
   ]
  },
  {
   "cell_type": "code",
   "execution_count": 26,
   "metadata": {},
   "outputs": [
    {
     "data": {
      "text/plain": [
       "Interior and spatial designer        31\n",
       "Lawyer                               30\n",
       "Social researcher                    28\n",
       "Research officer, political party    27\n",
       "Purchasing manager                   27\n",
       "Name: Job, dtype: int64"
      ]
     },
     "execution_count": 26,
     "metadata": {},
     "output_type": "execute_result"
    }
   ],
   "source": [
    "ecom['Job'].value_counts().head()"
   ]
  },
  {
   "cell_type": "code",
   "execution_count": 31,
   "metadata": {},
   "outputs": [
    {
     "ename": "SyntaxError",
     "evalue": "invalid syntax (<ipython-input-31-1b3d2031d858>, line 1)",
     "output_type": "error",
     "traceback": [
      "\u001b[0;36m  File \u001b[0;32m\"<ipython-input-31-1b3d2031d858>\"\u001b[0;36m, line \u001b[0;32m1\u001b[0m\n\u001b[0;31m    ecom['Job'].value_counts().loc(1:5)\u001b[0m\n\u001b[0m                                    ^\u001b[0m\n\u001b[0;31mSyntaxError\u001b[0m\u001b[0;31m:\u001b[0m invalid syntax\n"
     ]
    }
   ],
   "source": [
    "ecom['Job'].value_counts()"
   ]
  },
  {
   "cell_type": "code",
   "execution_count": 32,
   "metadata": {},
   "outputs": [
    {
     "data": {
      "text/plain": [
       "Index(['Address', 'Lot', 'AM or PM', 'Browser Info', 'Company', 'Credit Card',\n",
       "       'CC Exp Date', 'CC Security Code', 'CC Provider', 'Email', 'Job',\n",
       "       'IP Address', 'Language', 'Purchase Price'],\n",
       "      dtype='object')"
      ]
     },
     "execution_count": 32,
     "metadata": {},
     "output_type": "execute_result"
    }
   ],
   "source": [
    "ecom.columns"
   ]
  },
  {
   "cell_type": "code",
   "execution_count": 35,
   "metadata": {},
   "outputs": [
    {
     "data": {
      "text/plain": [
       "513    75.1\n",
       "Name: Purchase Price, dtype: float64"
      ]
     },
     "execution_count": 35,
     "metadata": {},
     "output_type": "execute_result"
    }
   ],
   "source": [
    "ecom[ecom['Lot'] == '90 WT']['Purchase Price']"
   ]
  },
  {
   "cell_type": "code",
   "execution_count": 47,
   "metadata": {},
   "outputs": [
    {
     "data": {
      "text/plain": [
       "1234    bondellen@williams-garza.com\n",
       "Name: Email, dtype: object"
      ]
     },
     "execution_count": 47,
     "metadata": {},
     "output_type": "execute_result"
    }
   ],
   "source": [
    "ecom[ecom['Credit Card'] == 4926535242672853]['Email']"
   ]
  },
  {
   "cell_type": "code",
   "execution_count": 57,
   "metadata": {},
   "outputs": [
    {
     "name": "stderr",
     "output_type": "stream",
     "text": [
      "/home/lennon/anaconda3/lib/python3.7/site-packages/ipykernel_launcher.py:1: UserWarning: Boolean Series key will be reindexed to match DataFrame index.\n",
      "  \"\"\"Entry point for launching an IPython kernel.\n"
     ]
    },
    {
     "data": {
      "text/plain": [
       "Address             39\n",
       "Lot                 39\n",
       "AM or PM            39\n",
       "Browser Info        39\n",
       "Company             39\n",
       "Credit Card         39\n",
       "CC Exp Date         39\n",
       "CC Security Code    39\n",
       "CC Provider         39\n",
       "Email               39\n",
       "Job                 39\n",
       "IP Address          39\n",
       "Language            39\n",
       "Purchase Price      39\n",
       "dtype: int64"
      ]
     },
     "execution_count": 57,
     "metadata": {},
     "output_type": "execute_result"
    }
   ],
   "source": [
    "ecom[ecom['CC Provider'] == 'American Express'][ecom['Purchase Price'] > 95].count()"
   ]
  },
  {
   "cell_type": "code",
   "execution_count": 54,
   "metadata": {},
   "outputs": [
    {
     "data": {
      "text/html": [
       "<div>\n",
       "<style scoped>\n",
       "    .dataframe tbody tr th:only-of-type {\n",
       "        vertical-align: middle;\n",
       "    }\n",
       "\n",
       "    .dataframe tbody tr th {\n",
       "        vertical-align: top;\n",
       "    }\n",
       "\n",
       "    .dataframe thead th {\n",
       "        text-align: right;\n",
       "    }\n",
       "</style>\n",
       "<table border=\"1\" class=\"dataframe\">\n",
       "  <thead>\n",
       "    <tr style=\"text-align: right;\">\n",
       "      <th></th>\n",
       "      <th>Address</th>\n",
       "      <th>Lot</th>\n",
       "      <th>AM or PM</th>\n",
       "      <th>Browser Info</th>\n",
       "      <th>Company</th>\n",
       "      <th>Credit Card</th>\n",
       "      <th>CC Exp Date</th>\n",
       "      <th>CC Security Code</th>\n",
       "      <th>CC Provider</th>\n",
       "      <th>Email</th>\n",
       "      <th>Job</th>\n",
       "      <th>IP Address</th>\n",
       "      <th>Language</th>\n",
       "      <th>Purchase Price</th>\n",
       "    </tr>\n",
       "  </thead>\n",
       "  <tbody>\n",
       "    <tr>\n",
       "      <th>0</th>\n",
       "      <td>16629 Pace Camp Apt. 448\\nAlexisborough, NE 77...</td>\n",
       "      <td>46 in</td>\n",
       "      <td>PM</td>\n",
       "      <td>Opera/9.56.(X11; Linux x86_64; sl-SI) Presto/2...</td>\n",
       "      <td>Martinez-Herman</td>\n",
       "      <td>6011929061123406</td>\n",
       "      <td>02/20</td>\n",
       "      <td>900</td>\n",
       "      <td>JCB 16 digit</td>\n",
       "      <td>pdunlap@yahoo.com</td>\n",
       "      <td>Scientist, product/process development</td>\n",
       "      <td>149.146.147.205</td>\n",
       "      <td>el</td>\n",
       "      <td>98.14</td>\n",
       "    </tr>\n",
       "    <tr>\n",
       "      <th>9</th>\n",
       "      <td>3795 Dawson Extensions\\nLake Tinafort, ID 88739</td>\n",
       "      <td>15 Ug</td>\n",
       "      <td>AM</td>\n",
       "      <td>Mozilla/5.0 (X11; Linux i686; rv:1.9.7.20) Gec...</td>\n",
       "      <td>Rivera, Buchanan and Ramirez</td>\n",
       "      <td>4396283918371</td>\n",
       "      <td>01/17</td>\n",
       "      <td>931</td>\n",
       "      <td>American Express</td>\n",
       "      <td>qcoleman@hunt-huerta.com</td>\n",
       "      <td>Forensic scientist</td>\n",
       "      <td>236.198.199.8</td>\n",
       "      <td>zh</td>\n",
       "      <td>95.63</td>\n",
       "    </tr>\n",
       "    <tr>\n",
       "      <th>10</th>\n",
       "      <td>650 Elizabeth Park\\nLake Maria, LA 13526-2530</td>\n",
       "      <td>65 Yn</td>\n",
       "      <td>PM</td>\n",
       "      <td>Mozilla/5.0 (iPod; U; CPU iPhone OS 4_1 like M...</td>\n",
       "      <td>Strickland, Michael and Gonzales</td>\n",
       "      <td>180036417827355</td>\n",
       "      <td>02/17</td>\n",
       "      <td>754</td>\n",
       "      <td>Voyager</td>\n",
       "      <td>ustewart@hotmail.com</td>\n",
       "      <td>Development worker, community</td>\n",
       "      <td>26.59.93.1</td>\n",
       "      <td>el</td>\n",
       "      <td>96.89</td>\n",
       "    </tr>\n",
       "    <tr>\n",
       "      <th>23</th>\n",
       "      <td>25292 Shepherd Trail Apt. 798\\nRussellmouth, S...</td>\n",
       "      <td>31 pS</td>\n",
       "      <td>PM</td>\n",
       "      <td>Mozilla/5.0 (compatible; MSIE 5.0; Windows 98;...</td>\n",
       "      <td>Cruz Inc</td>\n",
       "      <td>502010078983</td>\n",
       "      <td>02/23</td>\n",
       "      <td>60</td>\n",
       "      <td>VISA 13 digit</td>\n",
       "      <td>ltaylor@gardner-meadows.com</td>\n",
       "      <td>Field seismologist</td>\n",
       "      <td>25.193.145.116</td>\n",
       "      <td>ru</td>\n",
       "      <td>97.97</td>\n",
       "    </tr>\n",
       "    <tr>\n",
       "      <th>35</th>\n",
       "      <td>93392 Webb Gardens Apt. 220\\nLaurabury, AR 999...</td>\n",
       "      <td>37 om</td>\n",
       "      <td>AM</td>\n",
       "      <td>Mozilla/5.0 (Macintosh; U; Intel Mac OS X 10_7...</td>\n",
       "      <td>Mora Ltd</td>\n",
       "      <td>6011049630969815</td>\n",
       "      <td>09/16</td>\n",
       "      <td>367</td>\n",
       "      <td>Mastercard</td>\n",
       "      <td>hgonzalez@mcdowell.com</td>\n",
       "      <td>Lecturer, further education</td>\n",
       "      <td>216.23.95.40</td>\n",
       "      <td>zh</td>\n",
       "      <td>97.46</td>\n",
       "    </tr>\n",
       "    <tr>\n",
       "      <th>47</th>\n",
       "      <td>261 Walton Road Suite 704\\nMaldonadoshire, MD ...</td>\n",
       "      <td>55 DV</td>\n",
       "      <td>PM</td>\n",
       "      <td>Mozilla/5.0 (X11; Linux i686) AppleWebKit/5330...</td>\n",
       "      <td>Sanchez PLC</td>\n",
       "      <td>4237333090755</td>\n",
       "      <td>09/20</td>\n",
       "      <td>446</td>\n",
       "      <td>Maestro</td>\n",
       "      <td>zrocha@glenn.org</td>\n",
       "      <td>Facilities manager</td>\n",
       "      <td>84.195.175.153</td>\n",
       "      <td>it</td>\n",
       "      <td>97.01</td>\n",
       "    </tr>\n",
       "    <tr>\n",
       "      <th>126</th>\n",
       "      <td>5110 William Island Suite 636\\nElizabethfort, ...</td>\n",
       "      <td>14 kw</td>\n",
       "      <td>PM</td>\n",
       "      <td>Mozilla/5.0 (Windows; U; Windows 98; Win 9x 4....</td>\n",
       "      <td>Griffin Ltd</td>\n",
       "      <td>869966809631536</td>\n",
       "      <td>11/20</td>\n",
       "      <td>320</td>\n",
       "      <td>Diners Club / Carte Blanche</td>\n",
       "      <td>butlerloretta@aguirre.com</td>\n",
       "      <td>Insurance risk surveyor</td>\n",
       "      <td>244.230.168.191</td>\n",
       "      <td>zh</td>\n",
       "      <td>96.36</td>\n",
       "    </tr>\n",
       "    <tr>\n",
       "      <th>128</th>\n",
       "      <td>577 Thomas Island Apt. 678\\nKennethbury, AL 84...</td>\n",
       "      <td>65 oK</td>\n",
       "      <td>PM</td>\n",
       "      <td>Mozilla/5.0 (iPod; U; CPU iPhone OS 4_0 like M...</td>\n",
       "      <td>Mcconnell Inc</td>\n",
       "      <td>4212977686904876</td>\n",
       "      <td>06/19</td>\n",
       "      <td>986</td>\n",
       "      <td>JCB 16 digit</td>\n",
       "      <td>robertcamacho@nelson.com</td>\n",
       "      <td>Homeopath</td>\n",
       "      <td>255.224.209.181</td>\n",
       "      <td>es</td>\n",
       "      <td>97.75</td>\n",
       "    </tr>\n",
       "    <tr>\n",
       "      <th>145</th>\n",
       "      <td>664 Hannah Light Suite 279\\nNorth Samantha, NE...</td>\n",
       "      <td>76 ZL</td>\n",
       "      <td>PM</td>\n",
       "      <td>Mozilla/5.0 (Macintosh; Intel Mac OS X 10_6_2 ...</td>\n",
       "      <td>Miller-Hill</td>\n",
       "      <td>30432353421133</td>\n",
       "      <td>12/19</td>\n",
       "      <td>770</td>\n",
       "      <td>VISA 13 digit</td>\n",
       "      <td>brianlee@mosley-brown.com</td>\n",
       "      <td>Community education officer</td>\n",
       "      <td>61.106.102.37</td>\n",
       "      <td>fr</td>\n",
       "      <td>99.10</td>\n",
       "    </tr>\n",
       "    <tr>\n",
       "      <th>165</th>\n",
       "      <td>6305 Warren Plaza Apt. 428\\nPort Jessica, NE 1...</td>\n",
       "      <td>99 fU</td>\n",
       "      <td>PM</td>\n",
       "      <td>Mozilla/5.0 (iPod; U; CPU iPhone OS 4_1 like M...</td>\n",
       "      <td>Romero Inc</td>\n",
       "      <td>630497539738</td>\n",
       "      <td>07/22</td>\n",
       "      <td>532</td>\n",
       "      <td>Voyager</td>\n",
       "      <td>christopher74@gmail.com</td>\n",
       "      <td>Water quality scientist</td>\n",
       "      <td>131.59.200.188</td>\n",
       "      <td>el</td>\n",
       "      <td>95.60</td>\n",
       "    </tr>\n",
       "    <tr>\n",
       "      <th>177</th>\n",
       "      <td>054 Hatfield Prairie Apt. 730\\nClarkmouth, DE ...</td>\n",
       "      <td>33 IK</td>\n",
       "      <td>PM</td>\n",
       "      <td>Mozilla/5.0 (Windows NT 4.0; sl-SI; rv:1.9.0.2...</td>\n",
       "      <td>Braun-Floyd</td>\n",
       "      <td>6011784656657197</td>\n",
       "      <td>03/25</td>\n",
       "      <td>836</td>\n",
       "      <td>Mastercard</td>\n",
       "      <td>zwilson@yahoo.com</td>\n",
       "      <td>Chiropodist</td>\n",
       "      <td>167.84.198.199</td>\n",
       "      <td>el</td>\n",
       "      <td>99.72</td>\n",
       "    </tr>\n",
       "    <tr>\n",
       "      <th>179</th>\n",
       "      <td>99895 Walls Drive\\nPort Tristan, HI 96766</td>\n",
       "      <td>72 Io</td>\n",
       "      <td>AM</td>\n",
       "      <td>Mozilla/5.0 (X11; Linux i686) AppleWebKit/5310...</td>\n",
       "      <td>Kane, Rhodes and Sloan</td>\n",
       "      <td>869975032354493</td>\n",
       "      <td>10/21</td>\n",
       "      <td>872</td>\n",
       "      <td>JCB 15 digit</td>\n",
       "      <td>ffisher@scott.com</td>\n",
       "      <td>Psychiatric nurse</td>\n",
       "      <td>250.182.127.161</td>\n",
       "      <td>fr</td>\n",
       "      <td>99.79</td>\n",
       "    </tr>\n",
       "    <tr>\n",
       "      <th>193</th>\n",
       "      <td>1010 Mahoney Mills Suite 486\\nWest Daniellevie...</td>\n",
       "      <td>70 Fd</td>\n",
       "      <td>AM</td>\n",
       "      <td>Mozilla/5.0 (X11; Linux i686; rv:1.9.5.20) Gec...</td>\n",
       "      <td>Wilson-Dennis</td>\n",
       "      <td>30359256148796</td>\n",
       "      <td>02/22</td>\n",
       "      <td>62</td>\n",
       "      <td>JCB 16 digit</td>\n",
       "      <td>stacy72@cruz.com</td>\n",
       "      <td>Energy engineer</td>\n",
       "      <td>189.183.41.220</td>\n",
       "      <td>pt</td>\n",
       "      <td>96.79</td>\n",
       "    </tr>\n",
       "    <tr>\n",
       "      <th>202</th>\n",
       "      <td>24079 Kelly Crest Apt. 260\\nMayerborough, MH 9...</td>\n",
       "      <td>09 rQ</td>\n",
       "      <td>PM</td>\n",
       "      <td>Mozilla/5.0 (Windows 98; Win 9x 4.90) AppleWeb...</td>\n",
       "      <td>Valenzuela PLC</td>\n",
       "      <td>5549558244757443</td>\n",
       "      <td>10/21</td>\n",
       "      <td>539</td>\n",
       "      <td>Discover</td>\n",
       "      <td>thomas52@yahoo.com</td>\n",
       "      <td>Software engineer</td>\n",
       "      <td>216.179.195.90</td>\n",
       "      <td>es</td>\n",
       "      <td>99.28</td>\n",
       "    </tr>\n",
       "    <tr>\n",
       "      <th>231</th>\n",
       "      <td>17914 Kyle Trace\\nYvonnefurt, KY 93426</td>\n",
       "      <td>16 rC</td>\n",
       "      <td>PM</td>\n",
       "      <td>Mozilla/5.0 (Windows; U; Windows NT 6.2) Apple...</td>\n",
       "      <td>Mccormick, Beltran and Mcfarland</td>\n",
       "      <td>3158547977828569</td>\n",
       "      <td>10/19</td>\n",
       "      <td>436</td>\n",
       "      <td>JCB 16 digit</td>\n",
       "      <td>victor94@griffin.com</td>\n",
       "      <td>Theatre manager</td>\n",
       "      <td>156.30.136.26</td>\n",
       "      <td>es</td>\n",
       "      <td>96.70</td>\n",
       "    </tr>\n",
       "    <tr>\n",
       "      <th>237</th>\n",
       "      <td>6339 Kelly Pines\\nMelissastad, CO 18196-3209</td>\n",
       "      <td>73 jQ</td>\n",
       "      <td>PM</td>\n",
       "      <td>Mozilla/5.0 (Macintosh; Intel Mac OS X 10_6_2)...</td>\n",
       "      <td>Ware, Mayo and Martin</td>\n",
       "      <td>30445384944196</td>\n",
       "      <td>03/23</td>\n",
       "      <td>20</td>\n",
       "      <td>Maestro</td>\n",
       "      <td>thompsonkayla@yahoo.com</td>\n",
       "      <td>Solicitor</td>\n",
       "      <td>104.183.36.220</td>\n",
       "      <td>fr</td>\n",
       "      <td>97.03</td>\n",
       "    </tr>\n",
       "    <tr>\n",
       "      <th>280</th>\n",
       "      <td>81060 Dustin Causeway Apt. 503\\nPort Danielche...</td>\n",
       "      <td>80 zh</td>\n",
       "      <td>PM</td>\n",
       "      <td>Mozilla/5.0 (Windows NT 5.01) AppleWebKit/5362...</td>\n",
       "      <td>Clay PLC</td>\n",
       "      <td>377737470673585</td>\n",
       "      <td>10/17</td>\n",
       "      <td>349</td>\n",
       "      <td>American Express</td>\n",
       "      <td>hfarley@hicks.com</td>\n",
       "      <td>Ergonomist</td>\n",
       "      <td>134.52.148.32</td>\n",
       "      <td>de</td>\n",
       "      <td>99.13</td>\n",
       "    </tr>\n",
       "    <tr>\n",
       "      <th>304</th>\n",
       "      <td>953 Lewis Court\\nNew Kevinside, ID 70019</td>\n",
       "      <td>86 sg</td>\n",
       "      <td>PM</td>\n",
       "      <td>Mozilla/5.0 (compatible; MSIE 6.0; Windows NT ...</td>\n",
       "      <td>Cabrera, Weber and Castro</td>\n",
       "      <td>30127603981403</td>\n",
       "      <td>02/21</td>\n",
       "      <td>79</td>\n",
       "      <td>JCB 15 digit</td>\n",
       "      <td>michellepetersen@brown.com</td>\n",
       "      <td>Financial adviser</td>\n",
       "      <td>50.126.204.71</td>\n",
       "      <td>en</td>\n",
       "      <td>97.17</td>\n",
       "    </tr>\n",
       "    <tr>\n",
       "      <th>351</th>\n",
       "      <td>56151 Werner Burgs\\nNew Williamberg, DE 00746-...</td>\n",
       "      <td>46 pq</td>\n",
       "      <td>PM</td>\n",
       "      <td>Mozilla/5.0 (Macintosh; U; PPC Mac OS X 10_6_3...</td>\n",
       "      <td>Cruz Ltd</td>\n",
       "      <td>4142519962339370</td>\n",
       "      <td>06/17</td>\n",
       "      <td>164</td>\n",
       "      <td>Diners Club / Carte Blanche</td>\n",
       "      <td>david58@hotmail.com</td>\n",
       "      <td>Market researcher</td>\n",
       "      <td>67.172.52.215</td>\n",
       "      <td>es</td>\n",
       "      <td>95.72</td>\n",
       "    </tr>\n",
       "    <tr>\n",
       "      <th>372</th>\n",
       "      <td>359 Stanley Coves\\nSalasfort, SD 59457</td>\n",
       "      <td>75 Ub</td>\n",
       "      <td>PM</td>\n",
       "      <td>Opera/8.42.(X11; Linux x86_64; en-US) Presto/2...</td>\n",
       "      <td>Davis-Lawrence</td>\n",
       "      <td>371995567939253</td>\n",
       "      <td>02/26</td>\n",
       "      <td>1877</td>\n",
       "      <td>American Express</td>\n",
       "      <td>amberhull@jones.net</td>\n",
       "      <td>Training and development officer</td>\n",
       "      <td>198.98.34.250</td>\n",
       "      <td>pt</td>\n",
       "      <td>99.08</td>\n",
       "    </tr>\n",
       "    <tr>\n",
       "      <th>387</th>\n",
       "      <td>443 Lewis Overpass Apt. 804\\nNorth Kristinberg...</td>\n",
       "      <td>87 Zp</td>\n",
       "      <td>PM</td>\n",
       "      <td>Mozilla/5.0 (iPod; U; CPU iPhone OS 4_0 like M...</td>\n",
       "      <td>Harris, Humphrey and Sellers</td>\n",
       "      <td>3088260558858998</td>\n",
       "      <td>10/25</td>\n",
       "      <td>772</td>\n",
       "      <td>Mastercard</td>\n",
       "      <td>fbeck@velasquez.net</td>\n",
       "      <td>Wellsite geologist</td>\n",
       "      <td>235.110.187.124</td>\n",
       "      <td>it</td>\n",
       "      <td>98.42</td>\n",
       "    </tr>\n",
       "    <tr>\n",
       "      <th>388</th>\n",
       "      <td>648 Peters Shoal\\nCharlesbury, OR 63753</td>\n",
       "      <td>75 fu</td>\n",
       "      <td>AM</td>\n",
       "      <td>Mozilla/5.0 (Macintosh; U; PPC Mac OS X 10_8_4...</td>\n",
       "      <td>Pugh-Austin</td>\n",
       "      <td>5152341422260649</td>\n",
       "      <td>07/25</td>\n",
       "      <td>500</td>\n",
       "      <td>JCB 15 digit</td>\n",
       "      <td>ocarlson@figueroa.info</td>\n",
       "      <td>Visual merchandiser</td>\n",
       "      <td>221.222.204.132</td>\n",
       "      <td>it</td>\n",
       "      <td>97.13</td>\n",
       "    </tr>\n",
       "    <tr>\n",
       "      <th>391</th>\n",
       "      <td>89678 Lewis Crossing\\nEast Scotttown, ND 70920...</td>\n",
       "      <td>30 ft</td>\n",
       "      <td>AM</td>\n",
       "      <td>Opera/9.21.(X11; Linux i686; it-IT) Presto/2.9...</td>\n",
       "      <td>Turner LLC</td>\n",
       "      <td>4241556911579854</td>\n",
       "      <td>03/20</td>\n",
       "      <td>94</td>\n",
       "      <td>Diners Club / Carte Blanche</td>\n",
       "      <td>jasonrobinson@osborne.info</td>\n",
       "      <td>Designer, industrial/product</td>\n",
       "      <td>126.62.122.234</td>\n",
       "      <td>es</td>\n",
       "      <td>96.59</td>\n",
       "    </tr>\n",
       "    <tr>\n",
       "      <th>405</th>\n",
       "      <td>Unit 0248 Box 3155\\nDPO AA 89166</td>\n",
       "      <td>73 BL</td>\n",
       "      <td>PM</td>\n",
       "      <td>Mozilla/5.0 (compatible; MSIE 6.0; Windows 98;...</td>\n",
       "      <td>Mitchell Group</td>\n",
       "      <td>378758186278575</td>\n",
       "      <td>11/19</td>\n",
       "      <td>632</td>\n",
       "      <td>VISA 16 digit</td>\n",
       "      <td>udavis@yahoo.com</td>\n",
       "      <td>Youth worker</td>\n",
       "      <td>114.54.66.65</td>\n",
       "      <td>fr</td>\n",
       "      <td>98.62</td>\n",
       "    </tr>\n",
       "    <tr>\n",
       "      <th>423</th>\n",
       "      <td>31268 Ryan Plaza\\nEast Mariaton, NH 36384-3768</td>\n",
       "      <td>93 BY</td>\n",
       "      <td>PM</td>\n",
       "      <td>Mozilla/5.0 (Windows; U; Windows NT 4.0) Apple...</td>\n",
       "      <td>Franco, Jackson and Haynes</td>\n",
       "      <td>344576856413574</td>\n",
       "      <td>12/18</td>\n",
       "      <td>187</td>\n",
       "      <td>Mastercard</td>\n",
       "      <td>lauriedaniels@hotmail.com</td>\n",
       "      <td>Hydrologist</td>\n",
       "      <td>83.74.148.119</td>\n",
       "      <td>ru</td>\n",
       "      <td>98.26</td>\n",
       "    </tr>\n",
       "    <tr>\n",
       "      <th>437</th>\n",
       "      <td>74326 Allen Port\\nMillermouth, FL 35951-5475</td>\n",
       "      <td>97 Yr</td>\n",
       "      <td>AM</td>\n",
       "      <td>Mozilla/5.0 (Windows CE) AppleWebKit/5342 (KHT...</td>\n",
       "      <td>Rogers-Ayers</td>\n",
       "      <td>4823715026810358</td>\n",
       "      <td>03/20</td>\n",
       "      <td>847</td>\n",
       "      <td>JCB 15 digit</td>\n",
       "      <td>mirandajill@foster.net</td>\n",
       "      <td>Armed forces operational officer</td>\n",
       "      <td>92.24.250.160</td>\n",
       "      <td>fr</td>\n",
       "      <td>98.05</td>\n",
       "    </tr>\n",
       "    <tr>\n",
       "      <th>451</th>\n",
       "      <td>8558 David Brooks\\nAaronmouth, KS 94627</td>\n",
       "      <td>42 GG</td>\n",
       "      <td>AM</td>\n",
       "      <td>Mozilla/5.0 (compatible; MSIE 6.0; Windows NT ...</td>\n",
       "      <td>Brown, Lewis and Potts</td>\n",
       "      <td>6011397305318143</td>\n",
       "      <td>03/25</td>\n",
       "      <td>290</td>\n",
       "      <td>VISA 16 digit</td>\n",
       "      <td>richardfrazier@yahoo.com</td>\n",
       "      <td>Engineer, drilling</td>\n",
       "      <td>27.69.206.242</td>\n",
       "      <td>zh</td>\n",
       "      <td>96.77</td>\n",
       "    </tr>\n",
       "    <tr>\n",
       "      <th>466</th>\n",
       "      <td>22944 Moss Corners Apt. 501\\nAmberstad, IA 017...</td>\n",
       "      <td>85 Su</td>\n",
       "      <td>AM</td>\n",
       "      <td>Opera/9.48.(X11; Linux x86_64; en-US) Presto/2...</td>\n",
       "      <td>Walker, Miles and Dean</td>\n",
       "      <td>3337640748360667</td>\n",
       "      <td>03/20</td>\n",
       "      <td>200</td>\n",
       "      <td>Discover</td>\n",
       "      <td>lorraineochoa@reed.com</td>\n",
       "      <td>Automotive engineer</td>\n",
       "      <td>6.120.192.215</td>\n",
       "      <td>en</td>\n",
       "      <td>98.17</td>\n",
       "    </tr>\n",
       "    <tr>\n",
       "      <th>474</th>\n",
       "      <td>02182 Thomas Circle Suite 036\\nSouth Karen, NH...</td>\n",
       "      <td>43 wL</td>\n",
       "      <td>AM</td>\n",
       "      <td>Mozilla/5.0 (X11; Linux x86_64; rv:1.9.5.20) G...</td>\n",
       "      <td>Norman, Ferguson and Tran</td>\n",
       "      <td>4284046799352747</td>\n",
       "      <td>11/22</td>\n",
       "      <td>58</td>\n",
       "      <td>Mastercard</td>\n",
       "      <td>adam83@johnson.com</td>\n",
       "      <td>Call centre manager</td>\n",
       "      <td>56.97.99.204</td>\n",
       "      <td>en</td>\n",
       "      <td>96.30</td>\n",
       "    </tr>\n",
       "    <tr>\n",
       "      <th>493</th>\n",
       "      <td>128 Davis Ford\\nPort Johnborough, DC 17437</td>\n",
       "      <td>64 Pg</td>\n",
       "      <td>PM</td>\n",
       "      <td>Mozilla/5.0 (X11; Linux i686; rv:1.9.6.20) Gec...</td>\n",
       "      <td>Rogers, Rogers and Guzman</td>\n",
       "      <td>869990732910890</td>\n",
       "      <td>03/24</td>\n",
       "      <td>967</td>\n",
       "      <td>VISA 13 digit</td>\n",
       "      <td>brocksean@gmail.com</td>\n",
       "      <td>Community pharmacist</td>\n",
       "      <td>252.186.182.231</td>\n",
       "      <td>ru</td>\n",
       "      <td>95.13</td>\n",
       "    </tr>\n",
       "    <tr>\n",
       "      <th>...</th>\n",
       "      <td>...</td>\n",
       "      <td>...</td>\n",
       "      <td>...</td>\n",
       "      <td>...</td>\n",
       "      <td>...</td>\n",
       "      <td>...</td>\n",
       "      <td>...</td>\n",
       "      <td>...</td>\n",
       "      <td>...</td>\n",
       "      <td>...</td>\n",
       "      <td>...</td>\n",
       "      <td>...</td>\n",
       "      <td>...</td>\n",
       "      <td>...</td>\n",
       "    </tr>\n",
       "    <tr>\n",
       "      <th>9465</th>\n",
       "      <td>0840 Butler Harbor Suite 561\\nConnorburgh, WA ...</td>\n",
       "      <td>06 Uh</td>\n",
       "      <td>AM</td>\n",
       "      <td>Mozilla/5.0 (iPod; U; CPU iPhone OS 4_3 like M...</td>\n",
       "      <td>Ayala, Byrd and Dennis</td>\n",
       "      <td>3158193574054695</td>\n",
       "      <td>06/25</td>\n",
       "      <td>407</td>\n",
       "      <td>Mastercard</td>\n",
       "      <td>bryan85@hall-harris.biz</td>\n",
       "      <td>Biochemist, clinical</td>\n",
       "      <td>150.192.215.173</td>\n",
       "      <td>el</td>\n",
       "      <td>97.54</td>\n",
       "    </tr>\n",
       "    <tr>\n",
       "      <th>9473</th>\n",
       "      <td>6261 Holly Motorway Apt. 091\\nHillview, FM 64404</td>\n",
       "      <td>73 Xu</td>\n",
       "      <td>PM</td>\n",
       "      <td>Mozilla/5.0 (Macintosh; U; PPC Mac OS X 10_6_0...</td>\n",
       "      <td>Fleming-Miller</td>\n",
       "      <td>869914068935297</td>\n",
       "      <td>01/26</td>\n",
       "      <td>106</td>\n",
       "      <td>VISA 13 digit</td>\n",
       "      <td>gbaxter@fuentes-grant.com</td>\n",
       "      <td>Leisure centre manager</td>\n",
       "      <td>60.198.119.244</td>\n",
       "      <td>en</td>\n",
       "      <td>98.74</td>\n",
       "    </tr>\n",
       "    <tr>\n",
       "      <th>9474</th>\n",
       "      <td>5098 Deborah Forges Suite 115\\nSherriberg, OK ...</td>\n",
       "      <td>60 NM</td>\n",
       "      <td>AM</td>\n",
       "      <td>Opera/9.55.(Windows NT 5.0; en-US) Presto/2.9....</td>\n",
       "      <td>Richardson, Sherman and Randolph</td>\n",
       "      <td>60466950098</td>\n",
       "      <td>08/18</td>\n",
       "      <td>4462</td>\n",
       "      <td>VISA 16 digit</td>\n",
       "      <td>albert99@hotmail.com</td>\n",
       "      <td>Insurance claims handler</td>\n",
       "      <td>222.63.94.140</td>\n",
       "      <td>ru</td>\n",
       "      <td>98.98</td>\n",
       "    </tr>\n",
       "    <tr>\n",
       "      <th>9486</th>\n",
       "      <td>046 Sellers Gardens Suite 030\\nLake Melissa, I...</td>\n",
       "      <td>67 Hy</td>\n",
       "      <td>AM</td>\n",
       "      <td>Mozilla/5.0 (compatible; MSIE 9.0; Windows NT ...</td>\n",
       "      <td>Bailey and Sons</td>\n",
       "      <td>5164775876554187</td>\n",
       "      <td>10/16</td>\n",
       "      <td>352</td>\n",
       "      <td>JCB 16 digit</td>\n",
       "      <td>stevenjones@hotmail.com</td>\n",
       "      <td>Industrial buyer</td>\n",
       "      <td>249.140.164.163</td>\n",
       "      <td>zh</td>\n",
       "      <td>97.37</td>\n",
       "    </tr>\n",
       "    <tr>\n",
       "      <th>9494</th>\n",
       "      <td>USNS Golden\\nFPO AE 42041-0186</td>\n",
       "      <td>22 kU</td>\n",
       "      <td>AM</td>\n",
       "      <td>Mozilla/5.0 (compatible; MSIE 6.0; Windows 98;...</td>\n",
       "      <td>Silva, Chapman and Terrell</td>\n",
       "      <td>30024057392981</td>\n",
       "      <td>05/24</td>\n",
       "      <td>207</td>\n",
       "      <td>JCB 16 digit</td>\n",
       "      <td>uthomas@gutierrez-barber.com</td>\n",
       "      <td>Television camera operator</td>\n",
       "      <td>11.72.173.107</td>\n",
       "      <td>it</td>\n",
       "      <td>98.95</td>\n",
       "    </tr>\n",
       "    <tr>\n",
       "      <th>9533</th>\n",
       "      <td>667 Brown Unions Apt. 273\\nBradleystad, HI 664...</td>\n",
       "      <td>37 Zg</td>\n",
       "      <td>AM</td>\n",
       "      <td>Mozilla/5.0 (Macintosh; Intel Mac OS X 10_8_0 ...</td>\n",
       "      <td>Bautista, Bishop and Rogers</td>\n",
       "      <td>30356466067295</td>\n",
       "      <td>05/22</td>\n",
       "      <td>713</td>\n",
       "      <td>Maestro</td>\n",
       "      <td>andrewpatterson@gmail.com</td>\n",
       "      <td>Broadcast presenter</td>\n",
       "      <td>229.69.55.60</td>\n",
       "      <td>pt</td>\n",
       "      <td>98.38</td>\n",
       "    </tr>\n",
       "    <tr>\n",
       "      <th>9537</th>\n",
       "      <td>679 Sarah Roads\\nJacksonborough, MP 09174</td>\n",
       "      <td>98 Gv</td>\n",
       "      <td>AM</td>\n",
       "      <td>Mozilla/5.0 (Macintosh; Intel Mac OS X 10_8_6 ...</td>\n",
       "      <td>Bauer PLC</td>\n",
       "      <td>6011119446517460</td>\n",
       "      <td>04/17</td>\n",
       "      <td>667</td>\n",
       "      <td>VISA 16 digit</td>\n",
       "      <td>coxkelly@lee-hicks.net</td>\n",
       "      <td>Engineer, communications</td>\n",
       "      <td>148.72.194.176</td>\n",
       "      <td>de</td>\n",
       "      <td>98.08</td>\n",
       "    </tr>\n",
       "    <tr>\n",
       "      <th>9569</th>\n",
       "      <td>65389 Henry Island\\nEast Adam, GA 22363-5164</td>\n",
       "      <td>50 wk</td>\n",
       "      <td>AM</td>\n",
       "      <td>Mozilla/5.0 (iPod; U; CPU iPhone OS 3_2 like M...</td>\n",
       "      <td>Montoya-Cook</td>\n",
       "      <td>501813731491</td>\n",
       "      <td>04/17</td>\n",
       "      <td>965</td>\n",
       "      <td>Voyager</td>\n",
       "      <td>yross@townsend.org</td>\n",
       "      <td>English as a second language teacher</td>\n",
       "      <td>218.156.176.54</td>\n",
       "      <td>en</td>\n",
       "      <td>96.31</td>\n",
       "    </tr>\n",
       "    <tr>\n",
       "      <th>9604</th>\n",
       "      <td>9029 Robinson Parkways\\nAllenstad, MT 08102-0296</td>\n",
       "      <td>87 nN</td>\n",
       "      <td>AM</td>\n",
       "      <td>Mozilla/5.0 (compatible; MSIE 8.0; Windows 95;...</td>\n",
       "      <td>Howell, Wallace and Kent</td>\n",
       "      <td>210012218314178</td>\n",
       "      <td>05/26</td>\n",
       "      <td>675</td>\n",
       "      <td>VISA 13 digit</td>\n",
       "      <td>marshrebecca@hotmail.com</td>\n",
       "      <td>Nurse, adult</td>\n",
       "      <td>138.222.169.103</td>\n",
       "      <td>it</td>\n",
       "      <td>96.73</td>\n",
       "    </tr>\n",
       "    <tr>\n",
       "      <th>9626</th>\n",
       "      <td>PSC 1056, Box 7204\\nAPO AP 10154-3954</td>\n",
       "      <td>19 dw</td>\n",
       "      <td>AM</td>\n",
       "      <td>Mozilla/5.0 (compatible; MSIE 7.0; Windows 98;...</td>\n",
       "      <td>Cunningham-Houston</td>\n",
       "      <td>3158249411705251</td>\n",
       "      <td>02/23</td>\n",
       "      <td>944</td>\n",
       "      <td>JCB 15 digit</td>\n",
       "      <td>collinsjames@miller-adams.net</td>\n",
       "      <td>Lecturer, higher education</td>\n",
       "      <td>1.224.229.165</td>\n",
       "      <td>de</td>\n",
       "      <td>97.94</td>\n",
       "    </tr>\n",
       "    <tr>\n",
       "      <th>9644</th>\n",
       "      <td>69927 Brown Port Suite 734\\nPort Johnhaven, RI...</td>\n",
       "      <td>23 Kf</td>\n",
       "      <td>PM</td>\n",
       "      <td>Mozilla/5.0 (Windows NT 5.2; it-IT; rv:1.9.1.2...</td>\n",
       "      <td>Castaneda-Thomas</td>\n",
       "      <td>4262338240400977</td>\n",
       "      <td>01/22</td>\n",
       "      <td>924</td>\n",
       "      <td>VISA 16 digit</td>\n",
       "      <td>shelby01@gmail.com</td>\n",
       "      <td>Adult nurse</td>\n",
       "      <td>172.38.233.38</td>\n",
       "      <td>it</td>\n",
       "      <td>97.68</td>\n",
       "    </tr>\n",
       "    <tr>\n",
       "      <th>9655</th>\n",
       "      <td>5604 Chase Burgs\\nSouth Jamesshire, VA 61954-1292</td>\n",
       "      <td>65 Pz</td>\n",
       "      <td>AM</td>\n",
       "      <td>Mozilla/5.0 (compatible; MSIE 9.0; Windows CE;...</td>\n",
       "      <td>Munoz-Merritt</td>\n",
       "      <td>3112829822049103</td>\n",
       "      <td>09/16</td>\n",
       "      <td>905</td>\n",
       "      <td>Diners Club / Carte Blanche</td>\n",
       "      <td>williamsmelanie@yahoo.com</td>\n",
       "      <td>Race relations officer</td>\n",
       "      <td>219.34.209.227</td>\n",
       "      <td>pt</td>\n",
       "      <td>96.88</td>\n",
       "    </tr>\n",
       "    <tr>\n",
       "      <th>9658</th>\n",
       "      <td>47985 Ayala Pine\\nWest Christophershire, HI 31782</td>\n",
       "      <td>40 KS</td>\n",
       "      <td>PM</td>\n",
       "      <td>Opera/8.76.(Windows NT 6.0; sl-SI) Presto/2.9....</td>\n",
       "      <td>Olsen-Horton</td>\n",
       "      <td>3158720954685951</td>\n",
       "      <td>08/26</td>\n",
       "      <td>118</td>\n",
       "      <td>JCB 16 digit</td>\n",
       "      <td>stanley83@chandler.com</td>\n",
       "      <td>Solicitor</td>\n",
       "      <td>61.22.34.78</td>\n",
       "      <td>it</td>\n",
       "      <td>99.45</td>\n",
       "    </tr>\n",
       "    <tr>\n",
       "      <th>9675</th>\n",
       "      <td>452 Gilmore Fort\\nChristophershire, LA 66253</td>\n",
       "      <td>80 wE</td>\n",
       "      <td>AM</td>\n",
       "      <td>Mozilla/5.0 (Windows NT 5.1; en-US; rv:1.9.1.2...</td>\n",
       "      <td>Smith-Rivas</td>\n",
       "      <td>675935316371</td>\n",
       "      <td>01/25</td>\n",
       "      <td>306</td>\n",
       "      <td>Voyager</td>\n",
       "      <td>oreed@palmer-henry.com</td>\n",
       "      <td>Agricultural consultant</td>\n",
       "      <td>109.105.206.108</td>\n",
       "      <td>es</td>\n",
       "      <td>98.21</td>\n",
       "    </tr>\n",
       "    <tr>\n",
       "      <th>9715</th>\n",
       "      <td>08186 Darren Bypass Apt. 622\\nPort Amandamouth...</td>\n",
       "      <td>26 zN</td>\n",
       "      <td>PM</td>\n",
       "      <td>Mozilla/5.0 (iPod; U; CPU iPhone OS 4_1 like M...</td>\n",
       "      <td>Adams PLC</td>\n",
       "      <td>348427947649436</td>\n",
       "      <td>06/22</td>\n",
       "      <td>961</td>\n",
       "      <td>Voyager</td>\n",
       "      <td>deckerkimberly@hotmail.com</td>\n",
       "      <td>Building services engineer</td>\n",
       "      <td>27.56.125.28</td>\n",
       "      <td>en</td>\n",
       "      <td>97.52</td>\n",
       "    </tr>\n",
       "    <tr>\n",
       "      <th>9725</th>\n",
       "      <td>379 Derek Flats\\nEast Juliestad, AR 17361-7304</td>\n",
       "      <td>86 Zu</td>\n",
       "      <td>PM</td>\n",
       "      <td>Mozilla/5.0 (compatible; MSIE 8.0; Windows NT ...</td>\n",
       "      <td>Smith, Gonzalez and Tran</td>\n",
       "      <td>210076469997312</td>\n",
       "      <td>02/22</td>\n",
       "      <td>141</td>\n",
       "      <td>Maestro</td>\n",
       "      <td>jessicablack@gmail.com</td>\n",
       "      <td>Research scientist (physical sciences)</td>\n",
       "      <td>202.128.193.116</td>\n",
       "      <td>fr</td>\n",
       "      <td>95.71</td>\n",
       "    </tr>\n",
       "    <tr>\n",
       "      <th>9766</th>\n",
       "      <td>419 Bennett Squares Suite 969\\nAdamhaven, LA 2...</td>\n",
       "      <td>54 YX</td>\n",
       "      <td>AM</td>\n",
       "      <td>Opera/9.34.(Windows NT 5.1; en-US) Presto/2.9....</td>\n",
       "      <td>Reyes Group</td>\n",
       "      <td>3112889373101901</td>\n",
       "      <td>05/22</td>\n",
       "      <td>499</td>\n",
       "      <td>JCB 16 digit</td>\n",
       "      <td>williamscassandra@kennedy.com</td>\n",
       "      <td>Publishing copy</td>\n",
       "      <td>179.1.180.136</td>\n",
       "      <td>de</td>\n",
       "      <td>96.04</td>\n",
       "    </tr>\n",
       "    <tr>\n",
       "      <th>9793</th>\n",
       "      <td>USCGC Cameron\\nFPO AA 06957</td>\n",
       "      <td>43 Uj</td>\n",
       "      <td>PM</td>\n",
       "      <td>Mozilla/5.0 (Windows; U; Windows NT 6.0) Apple...</td>\n",
       "      <td>Brown Ltd</td>\n",
       "      <td>4217515211060825</td>\n",
       "      <td>12/21</td>\n",
       "      <td>384</td>\n",
       "      <td>Discover</td>\n",
       "      <td>mary71@hotmail.com</td>\n",
       "      <td>Exhibition designer</td>\n",
       "      <td>211.183.163.40</td>\n",
       "      <td>es</td>\n",
       "      <td>99.13</td>\n",
       "    </tr>\n",
       "    <tr>\n",
       "      <th>9811</th>\n",
       "      <td>2719 Michael Club Suite 621\\nRiosmouth, PA 788...</td>\n",
       "      <td>54 QC</td>\n",
       "      <td>PM</td>\n",
       "      <td>Mozilla/5.0 (Macintosh; U; Intel Mac OS X 10_7...</td>\n",
       "      <td>Ryan-Howard</td>\n",
       "      <td>60460555166</td>\n",
       "      <td>03/18</td>\n",
       "      <td>584</td>\n",
       "      <td>Maestro</td>\n",
       "      <td>stuartlewis@yahoo.com</td>\n",
       "      <td>Secretary, company</td>\n",
       "      <td>28.104.168.225</td>\n",
       "      <td>it</td>\n",
       "      <td>95.74</td>\n",
       "    </tr>\n",
       "    <tr>\n",
       "      <th>9812</th>\n",
       "      <td>6615 Timothy Crossroad Suite 289\\nWest Omar, N...</td>\n",
       "      <td>05 LM</td>\n",
       "      <td>PM</td>\n",
       "      <td>Mozilla/5.0 (compatible; MSIE 8.0; Windows NT ...</td>\n",
       "      <td>Castro PLC</td>\n",
       "      <td>5315278658740247</td>\n",
       "      <td>03/24</td>\n",
       "      <td>449</td>\n",
       "      <td>JCB 16 digit</td>\n",
       "      <td>elizabethhayes@williams.com</td>\n",
       "      <td>Media planner</td>\n",
       "      <td>242.11.253.235</td>\n",
       "      <td>de</td>\n",
       "      <td>98.04</td>\n",
       "    </tr>\n",
       "    <tr>\n",
       "      <th>9834</th>\n",
       "      <td>662 Richard Orchard\\nNorth Kristin, KS 98073</td>\n",
       "      <td>84 IH</td>\n",
       "      <td>AM</td>\n",
       "      <td>Opera/8.52.(Windows NT 5.01; en-US) Presto/2.9...</td>\n",
       "      <td>Peterson-Mckenzie</td>\n",
       "      <td>4736602207016</td>\n",
       "      <td>12/22</td>\n",
       "      <td>679</td>\n",
       "      <td>JCB 16 digit</td>\n",
       "      <td>ctrevino@powell.com</td>\n",
       "      <td>Petroleum engineer</td>\n",
       "      <td>123.125.18.52</td>\n",
       "      <td>en</td>\n",
       "      <td>96.61</td>\n",
       "    </tr>\n",
       "    <tr>\n",
       "      <th>9853</th>\n",
       "      <td>Unit 3222 Box 9328\\nDPO AA 03256</td>\n",
       "      <td>24 Oj</td>\n",
       "      <td>AM</td>\n",
       "      <td>Mozilla/5.0 (compatible; MSIE 9.0; Windows 95;...</td>\n",
       "      <td>Rivera, Simmons and Little</td>\n",
       "      <td>210066569710061</td>\n",
       "      <td>06/22</td>\n",
       "      <td>904</td>\n",
       "      <td>JCB 15 digit</td>\n",
       "      <td>pauldorsey@yahoo.com</td>\n",
       "      <td>Teacher, music</td>\n",
       "      <td>75.202.75.223</td>\n",
       "      <td>el</td>\n",
       "      <td>95.72</td>\n",
       "    </tr>\n",
       "    <tr>\n",
       "      <th>9856</th>\n",
       "      <td>058 Miranda Locks Suite 792\\nPort Davidstad, P...</td>\n",
       "      <td>73 IW</td>\n",
       "      <td>PM</td>\n",
       "      <td>Mozilla/5.0 (Windows NT 5.0) AppleWebKit/5360 ...</td>\n",
       "      <td>Olson-Navarro</td>\n",
       "      <td>6011037226242937</td>\n",
       "      <td>03/18</td>\n",
       "      <td>757</td>\n",
       "      <td>American Express</td>\n",
       "      <td>brendastewart@dalton.info</td>\n",
       "      <td>Site engineer</td>\n",
       "      <td>96.79.250.154</td>\n",
       "      <td>de</td>\n",
       "      <td>99.97</td>\n",
       "    </tr>\n",
       "    <tr>\n",
       "      <th>9862</th>\n",
       "      <td>77399 Matthew Station\\nHarrisbury, AL 01792-2266</td>\n",
       "      <td>44 pD</td>\n",
       "      <td>PM</td>\n",
       "      <td>Mozilla/5.0 (compatible; MSIE 8.0; Windows NT ...</td>\n",
       "      <td>Mitchell and Sons</td>\n",
       "      <td>4011540401132992</td>\n",
       "      <td>04/26</td>\n",
       "      <td>649</td>\n",
       "      <td>VISA 16 digit</td>\n",
       "      <td>hherrera@brown.info</td>\n",
       "      <td>Solicitor, Scotland</td>\n",
       "      <td>150.145.204.249</td>\n",
       "      <td>en</td>\n",
       "      <td>98.61</td>\n",
       "    </tr>\n",
       "    <tr>\n",
       "      <th>9880</th>\n",
       "      <td>860 Rodriguez Ford Suite 032\\nLeeland, ME 67174</td>\n",
       "      <td>01 Qu</td>\n",
       "      <td>AM</td>\n",
       "      <td>Mozilla/5.0 (Macintosh; PPC Mac OS X 10_8_5 rv...</td>\n",
       "      <td>Scott-Torres</td>\n",
       "      <td>210009491330590</td>\n",
       "      <td>08/25</td>\n",
       "      <td>938</td>\n",
       "      <td>VISA 13 digit</td>\n",
       "      <td>katrina03@yahoo.com</td>\n",
       "      <td>Training and development officer</td>\n",
       "      <td>75.198.181.198</td>\n",
       "      <td>it</td>\n",
       "      <td>99.24</td>\n",
       "    </tr>\n",
       "    <tr>\n",
       "      <th>9885</th>\n",
       "      <td>82535 Gay Bypass\\nNew Kathryn, AZ 05190</td>\n",
       "      <td>39 vm</td>\n",
       "      <td>PM</td>\n",
       "      <td>Mozilla/5.0 (Windows NT 5.2) AppleWebKit/5361 ...</td>\n",
       "      <td>Phillips LLC</td>\n",
       "      <td>501816385980</td>\n",
       "      <td>07/26</td>\n",
       "      <td>584</td>\n",
       "      <td>Discover</td>\n",
       "      <td>mitchellricky@hotmail.com</td>\n",
       "      <td>Patent attorney</td>\n",
       "      <td>72.117.117.228</td>\n",
       "      <td>ru</td>\n",
       "      <td>97.63</td>\n",
       "    </tr>\n",
       "    <tr>\n",
       "      <th>9886</th>\n",
       "      <td>037 Kelsey Knolls Suite 020\\nTorresmouth, UT 5...</td>\n",
       "      <td>56 SL</td>\n",
       "      <td>AM</td>\n",
       "      <td>Mozilla/5.0 (Windows NT 5.0) AppleWebKit/5320 ...</td>\n",
       "      <td>Thompson-Moore</td>\n",
       "      <td>4893575931765</td>\n",
       "      <td>09/17</td>\n",
       "      <td>663</td>\n",
       "      <td>JCB 16 digit</td>\n",
       "      <td>samanthasims@hotmail.com</td>\n",
       "      <td>Social worker</td>\n",
       "      <td>55.145.120.78</td>\n",
       "      <td>el</td>\n",
       "      <td>97.36</td>\n",
       "    </tr>\n",
       "    <tr>\n",
       "      <th>9934</th>\n",
       "      <td>52276 Smith Cliffs\\nLake Vanessaview, AL 91791</td>\n",
       "      <td>40 nG</td>\n",
       "      <td>AM</td>\n",
       "      <td>Opera/9.62.(Windows NT 5.0; sl-SI) Presto/2.9....</td>\n",
       "      <td>Clay LLC</td>\n",
       "      <td>5148775191773208</td>\n",
       "      <td>05/23</td>\n",
       "      <td>583</td>\n",
       "      <td>VISA 16 digit</td>\n",
       "      <td>popejames@yahoo.com</td>\n",
       "      <td>Consulting civil engineer</td>\n",
       "      <td>130.63.250.128</td>\n",
       "      <td>el</td>\n",
       "      <td>99.75</td>\n",
       "    </tr>\n",
       "    <tr>\n",
       "      <th>9958</th>\n",
       "      <td>PSC 8781, Box 4214\\nAPO AP 94478</td>\n",
       "      <td>72 Ez</td>\n",
       "      <td>AM</td>\n",
       "      <td>Mozilla/5.0 (iPod; U; CPU iPhone OS 3_0 like M...</td>\n",
       "      <td>Logan, Anderson and Martin</td>\n",
       "      <td>210030902457830</td>\n",
       "      <td>08/24</td>\n",
       "      <td>597</td>\n",
       "      <td>Maestro</td>\n",
       "      <td>reynoldsrick@yahoo.com</td>\n",
       "      <td>Industrial/product designer</td>\n",
       "      <td>26.86.9.173</td>\n",
       "      <td>en</td>\n",
       "      <td>99.86</td>\n",
       "    </tr>\n",
       "    <tr>\n",
       "      <th>9967</th>\n",
       "      <td>409 Holland Drives\\nWhitetown, ME 78654</td>\n",
       "      <td>38 aX</td>\n",
       "      <td>AM</td>\n",
       "      <td>Mozilla/5.0 (compatible; MSIE 9.0; Windows NT ...</td>\n",
       "      <td>Singleton Inc</td>\n",
       "      <td>869944453111857</td>\n",
       "      <td>04/26</td>\n",
       "      <td>602</td>\n",
       "      <td>Diners Club / Carte Blanche</td>\n",
       "      <td>gina95@gmail.com</td>\n",
       "      <td>Television camera operator</td>\n",
       "      <td>120.205.69.231</td>\n",
       "      <td>es</td>\n",
       "      <td>98.42</td>\n",
       "    </tr>\n",
       "  </tbody>\n",
       "</table>\n",
       "<p>505 rows × 14 columns</p>\n",
       "</div>"
      ],
      "text/plain": [
       "                                                Address    Lot AM or PM  \\\n",
       "0     16629 Pace Camp Apt. 448\\nAlexisborough, NE 77...  46 in       PM   \n",
       "9       3795 Dawson Extensions\\nLake Tinafort, ID 88739  15 Ug       AM   \n",
       "10        650 Elizabeth Park\\nLake Maria, LA 13526-2530  65 Yn       PM   \n",
       "23    25292 Shepherd Trail Apt. 798\\nRussellmouth, S...  31 pS       PM   \n",
       "35    93392 Webb Gardens Apt. 220\\nLaurabury, AR 999...  37 om       AM   \n",
       "47    261 Walton Road Suite 704\\nMaldonadoshire, MD ...  55 DV       PM   \n",
       "126   5110 William Island Suite 636\\nElizabethfort, ...  14 kw       PM   \n",
       "128   577 Thomas Island Apt. 678\\nKennethbury, AL 84...  65 oK       PM   \n",
       "145   664 Hannah Light Suite 279\\nNorth Samantha, NE...  76 ZL       PM   \n",
       "165   6305 Warren Plaza Apt. 428\\nPort Jessica, NE 1...  99 fU       PM   \n",
       "177   054 Hatfield Prairie Apt. 730\\nClarkmouth, DE ...  33 IK       PM   \n",
       "179           99895 Walls Drive\\nPort Tristan, HI 96766  72 Io       AM   \n",
       "193   1010 Mahoney Mills Suite 486\\nWest Daniellevie...  70 Fd       AM   \n",
       "202   24079 Kelly Crest Apt. 260\\nMayerborough, MH 9...  09 rQ       PM   \n",
       "231              17914 Kyle Trace\\nYvonnefurt, KY 93426  16 rC       PM   \n",
       "237        6339 Kelly Pines\\nMelissastad, CO 18196-3209  73 jQ       PM   \n",
       "280   81060 Dustin Causeway Apt. 503\\nPort Danielche...  80 zh       PM   \n",
       "304            953 Lewis Court\\nNew Kevinside, ID 70019  86 sg       PM   \n",
       "351   56151 Werner Burgs\\nNew Williamberg, DE 00746-...  46 pq       PM   \n",
       "372              359 Stanley Coves\\nSalasfort, SD 59457  75 Ub       PM   \n",
       "387   443 Lewis Overpass Apt. 804\\nNorth Kristinberg...  87 Zp       PM   \n",
       "388             648 Peters Shoal\\nCharlesbury, OR 63753  75 fu       AM   \n",
       "391   89678 Lewis Crossing\\nEast Scotttown, ND 70920...  30 ft       AM   \n",
       "405                    Unit 0248 Box 3155\\nDPO AA 89166  73 BL       PM   \n",
       "423      31268 Ryan Plaza\\nEast Mariaton, NH 36384-3768  93 BY       PM   \n",
       "437        74326 Allen Port\\nMillermouth, FL 35951-5475  97 Yr       AM   \n",
       "451             8558 David Brooks\\nAaronmouth, KS 94627  42 GG       AM   \n",
       "466   22944 Moss Corners Apt. 501\\nAmberstad, IA 017...  85 Su       AM   \n",
       "474   02182 Thomas Circle Suite 036\\nSouth Karen, NH...  43 wL       AM   \n",
       "493          128 Davis Ford\\nPort Johnborough, DC 17437  64 Pg       PM   \n",
       "...                                                 ...    ...      ...   \n",
       "9465  0840 Butler Harbor Suite 561\\nConnorburgh, WA ...  06 Uh       AM   \n",
       "9473   6261 Holly Motorway Apt. 091\\nHillview, FM 64404  73 Xu       PM   \n",
       "9474  5098 Deborah Forges Suite 115\\nSherriberg, OK ...  60 NM       AM   \n",
       "9486  046 Sellers Gardens Suite 030\\nLake Melissa, I...  67 Hy       AM   \n",
       "9494                     USNS Golden\\nFPO AE 42041-0186  22 kU       AM   \n",
       "9533  667 Brown Unions Apt. 273\\nBradleystad, HI 664...  37 Zg       AM   \n",
       "9537          679 Sarah Roads\\nJacksonborough, MP 09174  98 Gv       AM   \n",
       "9569       65389 Henry Island\\nEast Adam, GA 22363-5164  50 wk       AM   \n",
       "9604   9029 Robinson Parkways\\nAllenstad, MT 08102-0296  87 nN       AM   \n",
       "9626              PSC 1056, Box 7204\\nAPO AP 10154-3954  19 dw       AM   \n",
       "9644  69927 Brown Port Suite 734\\nPort Johnhaven, RI...  23 Kf       PM   \n",
       "9655  5604 Chase Burgs\\nSouth Jamesshire, VA 61954-1292  65 Pz       AM   \n",
       "9658  47985 Ayala Pine\\nWest Christophershire, HI 31782  40 KS       PM   \n",
       "9675       452 Gilmore Fort\\nChristophershire, LA 66253  80 wE       AM   \n",
       "9715  08186 Darren Bypass Apt. 622\\nPort Amandamouth...  26 zN       PM   \n",
       "9725     379 Derek Flats\\nEast Juliestad, AR 17361-7304  86 Zu       PM   \n",
       "9766  419 Bennett Squares Suite 969\\nAdamhaven, LA 2...  54 YX       AM   \n",
       "9793                        USCGC Cameron\\nFPO AA 06957  43 Uj       PM   \n",
       "9811  2719 Michael Club Suite 621\\nRiosmouth, PA 788...  54 QC       PM   \n",
       "9812  6615 Timothy Crossroad Suite 289\\nWest Omar, N...  05 LM       PM   \n",
       "9834       662 Richard Orchard\\nNorth Kristin, KS 98073  84 IH       AM   \n",
       "9853                   Unit 3222 Box 9328\\nDPO AA 03256  24 Oj       AM   \n",
       "9856  058 Miranda Locks Suite 792\\nPort Davidstad, P...  73 IW       PM   \n",
       "9862   77399 Matthew Station\\nHarrisbury, AL 01792-2266  44 pD       PM   \n",
       "9880    860 Rodriguez Ford Suite 032\\nLeeland, ME 67174  01 Qu       AM   \n",
       "9885            82535 Gay Bypass\\nNew Kathryn, AZ 05190  39 vm       PM   \n",
       "9886  037 Kelsey Knolls Suite 020\\nTorresmouth, UT 5...  56 SL       AM   \n",
       "9934     52276 Smith Cliffs\\nLake Vanessaview, AL 91791  40 nG       AM   \n",
       "9958                   PSC 8781, Box 4214\\nAPO AP 94478  72 Ez       AM   \n",
       "9967            409 Holland Drives\\nWhitetown, ME 78654  38 aX       AM   \n",
       "\n",
       "                                           Browser Info  \\\n",
       "0     Opera/9.56.(X11; Linux x86_64; sl-SI) Presto/2...   \n",
       "9     Mozilla/5.0 (X11; Linux i686; rv:1.9.7.20) Gec...   \n",
       "10    Mozilla/5.0 (iPod; U; CPU iPhone OS 4_1 like M...   \n",
       "23    Mozilla/5.0 (compatible; MSIE 5.0; Windows 98;...   \n",
       "35    Mozilla/5.0 (Macintosh; U; Intel Mac OS X 10_7...   \n",
       "47    Mozilla/5.0 (X11; Linux i686) AppleWebKit/5330...   \n",
       "126   Mozilla/5.0 (Windows; U; Windows 98; Win 9x 4....   \n",
       "128   Mozilla/5.0 (iPod; U; CPU iPhone OS 4_0 like M...   \n",
       "145   Mozilla/5.0 (Macintosh; Intel Mac OS X 10_6_2 ...   \n",
       "165   Mozilla/5.0 (iPod; U; CPU iPhone OS 4_1 like M...   \n",
       "177   Mozilla/5.0 (Windows NT 4.0; sl-SI; rv:1.9.0.2...   \n",
       "179   Mozilla/5.0 (X11; Linux i686) AppleWebKit/5310...   \n",
       "193   Mozilla/5.0 (X11; Linux i686; rv:1.9.5.20) Gec...   \n",
       "202   Mozilla/5.0 (Windows 98; Win 9x 4.90) AppleWeb...   \n",
       "231   Mozilla/5.0 (Windows; U; Windows NT 6.2) Apple...   \n",
       "237   Mozilla/5.0 (Macintosh; Intel Mac OS X 10_6_2)...   \n",
       "280   Mozilla/5.0 (Windows NT 5.01) AppleWebKit/5362...   \n",
       "304   Mozilla/5.0 (compatible; MSIE 6.0; Windows NT ...   \n",
       "351   Mozilla/5.0 (Macintosh; U; PPC Mac OS X 10_6_3...   \n",
       "372   Opera/8.42.(X11; Linux x86_64; en-US) Presto/2...   \n",
       "387   Mozilla/5.0 (iPod; U; CPU iPhone OS 4_0 like M...   \n",
       "388   Mozilla/5.0 (Macintosh; U; PPC Mac OS X 10_8_4...   \n",
       "391   Opera/9.21.(X11; Linux i686; it-IT) Presto/2.9...   \n",
       "405   Mozilla/5.0 (compatible; MSIE 6.0; Windows 98;...   \n",
       "423   Mozilla/5.0 (Windows; U; Windows NT 4.0) Apple...   \n",
       "437   Mozilla/5.0 (Windows CE) AppleWebKit/5342 (KHT...   \n",
       "451   Mozilla/5.0 (compatible; MSIE 6.0; Windows NT ...   \n",
       "466   Opera/9.48.(X11; Linux x86_64; en-US) Presto/2...   \n",
       "474   Mozilla/5.0 (X11; Linux x86_64; rv:1.9.5.20) G...   \n",
       "493   Mozilla/5.0 (X11; Linux i686; rv:1.9.6.20) Gec...   \n",
       "...                                                 ...   \n",
       "9465  Mozilla/5.0 (iPod; U; CPU iPhone OS 4_3 like M...   \n",
       "9473  Mozilla/5.0 (Macintosh; U; PPC Mac OS X 10_6_0...   \n",
       "9474  Opera/9.55.(Windows NT 5.0; en-US) Presto/2.9....   \n",
       "9486  Mozilla/5.0 (compatible; MSIE 9.0; Windows NT ...   \n",
       "9494  Mozilla/5.0 (compatible; MSIE 6.0; Windows 98;...   \n",
       "9533  Mozilla/5.0 (Macintosh; Intel Mac OS X 10_8_0 ...   \n",
       "9537  Mozilla/5.0 (Macintosh; Intel Mac OS X 10_8_6 ...   \n",
       "9569  Mozilla/5.0 (iPod; U; CPU iPhone OS 3_2 like M...   \n",
       "9604  Mozilla/5.0 (compatible; MSIE 8.0; Windows 95;...   \n",
       "9626  Mozilla/5.0 (compatible; MSIE 7.0; Windows 98;...   \n",
       "9644  Mozilla/5.0 (Windows NT 5.2; it-IT; rv:1.9.1.2...   \n",
       "9655  Mozilla/5.0 (compatible; MSIE 9.0; Windows CE;...   \n",
       "9658  Opera/8.76.(Windows NT 6.0; sl-SI) Presto/2.9....   \n",
       "9675  Mozilla/5.0 (Windows NT 5.1; en-US; rv:1.9.1.2...   \n",
       "9715  Mozilla/5.0 (iPod; U; CPU iPhone OS 4_1 like M...   \n",
       "9725  Mozilla/5.0 (compatible; MSIE 8.0; Windows NT ...   \n",
       "9766  Opera/9.34.(Windows NT 5.1; en-US) Presto/2.9....   \n",
       "9793  Mozilla/5.0 (Windows; U; Windows NT 6.0) Apple...   \n",
       "9811  Mozilla/5.0 (Macintosh; U; Intel Mac OS X 10_7...   \n",
       "9812  Mozilla/5.0 (compatible; MSIE 8.0; Windows NT ...   \n",
       "9834  Opera/8.52.(Windows NT 5.01; en-US) Presto/2.9...   \n",
       "9853  Mozilla/5.0 (compatible; MSIE 9.0; Windows 95;...   \n",
       "9856  Mozilla/5.0 (Windows NT 5.0) AppleWebKit/5360 ...   \n",
       "9862  Mozilla/5.0 (compatible; MSIE 8.0; Windows NT ...   \n",
       "9880  Mozilla/5.0 (Macintosh; PPC Mac OS X 10_8_5 rv...   \n",
       "9885  Mozilla/5.0 (Windows NT 5.2) AppleWebKit/5361 ...   \n",
       "9886  Mozilla/5.0 (Windows NT 5.0) AppleWebKit/5320 ...   \n",
       "9934  Opera/9.62.(Windows NT 5.0; sl-SI) Presto/2.9....   \n",
       "9958  Mozilla/5.0 (iPod; U; CPU iPhone OS 3_0 like M...   \n",
       "9967  Mozilla/5.0 (compatible; MSIE 9.0; Windows NT ...   \n",
       "\n",
       "                               Company       Credit Card CC Exp Date  \\\n",
       "0                      Martinez-Herman  6011929061123406       02/20   \n",
       "9         Rivera, Buchanan and Ramirez     4396283918371       01/17   \n",
       "10    Strickland, Michael and Gonzales   180036417827355       02/17   \n",
       "23                            Cruz Inc      502010078983       02/23   \n",
       "35                            Mora Ltd  6011049630969815       09/16   \n",
       "47                         Sanchez PLC     4237333090755       09/20   \n",
       "126                        Griffin Ltd   869966809631536       11/20   \n",
       "128                      Mcconnell Inc  4212977686904876       06/19   \n",
       "145                        Miller-Hill    30432353421133       12/19   \n",
       "165                         Romero Inc      630497539738       07/22   \n",
       "177                        Braun-Floyd  6011784656657197       03/25   \n",
       "179             Kane, Rhodes and Sloan   869975032354493       10/21   \n",
       "193                      Wilson-Dennis    30359256148796       02/22   \n",
       "202                     Valenzuela PLC  5549558244757443       10/21   \n",
       "231   Mccormick, Beltran and Mcfarland  3158547977828569       10/19   \n",
       "237              Ware, Mayo and Martin    30445384944196       03/23   \n",
       "280                           Clay PLC   377737470673585       10/17   \n",
       "304          Cabrera, Weber and Castro    30127603981403       02/21   \n",
       "351                           Cruz Ltd  4142519962339370       06/17   \n",
       "372                     Davis-Lawrence   371995567939253       02/26   \n",
       "387       Harris, Humphrey and Sellers  3088260558858998       10/25   \n",
       "388                        Pugh-Austin  5152341422260649       07/25   \n",
       "391                         Turner LLC  4241556911579854       03/20   \n",
       "405                     Mitchell Group   378758186278575       11/19   \n",
       "423         Franco, Jackson and Haynes   344576856413574       12/18   \n",
       "437                       Rogers-Ayers  4823715026810358       03/20   \n",
       "451             Brown, Lewis and Potts  6011397305318143       03/25   \n",
       "466             Walker, Miles and Dean  3337640748360667       03/20   \n",
       "474          Norman, Ferguson and Tran  4284046799352747       11/22   \n",
       "493          Rogers, Rogers and Guzman   869990732910890       03/24   \n",
       "...                                ...               ...         ...   \n",
       "9465            Ayala, Byrd and Dennis  3158193574054695       06/25   \n",
       "9473                    Fleming-Miller   869914068935297       01/26   \n",
       "9474  Richardson, Sherman and Randolph       60466950098       08/18   \n",
       "9486                   Bailey and Sons  5164775876554187       10/16   \n",
       "9494        Silva, Chapman and Terrell    30024057392981       05/24   \n",
       "9533       Bautista, Bishop and Rogers    30356466067295       05/22   \n",
       "9537                         Bauer PLC  6011119446517460       04/17   \n",
       "9569                      Montoya-Cook      501813731491       04/17   \n",
       "9604          Howell, Wallace and Kent   210012218314178       05/26   \n",
       "9626                Cunningham-Houston  3158249411705251       02/23   \n",
       "9644                  Castaneda-Thomas  4262338240400977       01/22   \n",
       "9655                     Munoz-Merritt  3112829822049103       09/16   \n",
       "9658                      Olsen-Horton  3158720954685951       08/26   \n",
       "9675                       Smith-Rivas      675935316371       01/25   \n",
       "9715                         Adams PLC   348427947649436       06/22   \n",
       "9725          Smith, Gonzalez and Tran   210076469997312       02/22   \n",
       "9766                       Reyes Group  3112889373101901       05/22   \n",
       "9793                         Brown Ltd  4217515211060825       12/21   \n",
       "9811                       Ryan-Howard       60460555166       03/18   \n",
       "9812                        Castro PLC  5315278658740247       03/24   \n",
       "9834                 Peterson-Mckenzie     4736602207016       12/22   \n",
       "9853        Rivera, Simmons and Little   210066569710061       06/22   \n",
       "9856                     Olson-Navarro  6011037226242937       03/18   \n",
       "9862                 Mitchell and Sons  4011540401132992       04/26   \n",
       "9880                      Scott-Torres   210009491330590       08/25   \n",
       "9885                      Phillips LLC      501816385980       07/26   \n",
       "9886                    Thompson-Moore     4893575931765       09/17   \n",
       "9934                          Clay LLC  5148775191773208       05/23   \n",
       "9958        Logan, Anderson and Martin   210030902457830       08/24   \n",
       "9967                     Singleton Inc   869944453111857       04/26   \n",
       "\n",
       "      CC Security Code                  CC Provider  \\\n",
       "0                  900                 JCB 16 digit   \n",
       "9                  931             American Express   \n",
       "10                 754                      Voyager   \n",
       "23                  60                VISA 13 digit   \n",
       "35                 367                   Mastercard   \n",
       "47                 446                      Maestro   \n",
       "126                320  Diners Club / Carte Blanche   \n",
       "128                986                 JCB 16 digit   \n",
       "145                770                VISA 13 digit   \n",
       "165                532                      Voyager   \n",
       "177                836                   Mastercard   \n",
       "179                872                 JCB 15 digit   \n",
       "193                 62                 JCB 16 digit   \n",
       "202                539                     Discover   \n",
       "231                436                 JCB 16 digit   \n",
       "237                 20                      Maestro   \n",
       "280                349             American Express   \n",
       "304                 79                 JCB 15 digit   \n",
       "351                164  Diners Club / Carte Blanche   \n",
       "372               1877             American Express   \n",
       "387                772                   Mastercard   \n",
       "388                500                 JCB 15 digit   \n",
       "391                 94  Diners Club / Carte Blanche   \n",
       "405                632                VISA 16 digit   \n",
       "423                187                   Mastercard   \n",
       "437                847                 JCB 15 digit   \n",
       "451                290                VISA 16 digit   \n",
       "466                200                     Discover   \n",
       "474                 58                   Mastercard   \n",
       "493                967                VISA 13 digit   \n",
       "...                ...                          ...   \n",
       "9465               407                   Mastercard   \n",
       "9473               106                VISA 13 digit   \n",
       "9474              4462                VISA 16 digit   \n",
       "9486               352                 JCB 16 digit   \n",
       "9494               207                 JCB 16 digit   \n",
       "9533               713                      Maestro   \n",
       "9537               667                VISA 16 digit   \n",
       "9569               965                      Voyager   \n",
       "9604               675                VISA 13 digit   \n",
       "9626               944                 JCB 15 digit   \n",
       "9644               924                VISA 16 digit   \n",
       "9655               905  Diners Club / Carte Blanche   \n",
       "9658               118                 JCB 16 digit   \n",
       "9675               306                      Voyager   \n",
       "9715               961                      Voyager   \n",
       "9725               141                      Maestro   \n",
       "9766               499                 JCB 16 digit   \n",
       "9793               384                     Discover   \n",
       "9811               584                      Maestro   \n",
       "9812               449                 JCB 16 digit   \n",
       "9834               679                 JCB 16 digit   \n",
       "9853               904                 JCB 15 digit   \n",
       "9856               757             American Express   \n",
       "9862               649                VISA 16 digit   \n",
       "9880               938                VISA 13 digit   \n",
       "9885               584                     Discover   \n",
       "9886               663                 JCB 16 digit   \n",
       "9934               583                VISA 16 digit   \n",
       "9958               597                      Maestro   \n",
       "9967               602  Diners Club / Carte Blanche   \n",
       "\n",
       "                              Email                                     Job  \\\n",
       "0                 pdunlap@yahoo.com  Scientist, product/process development   \n",
       "9          qcoleman@hunt-huerta.com                      Forensic scientist   \n",
       "10             ustewart@hotmail.com           Development worker, community   \n",
       "23      ltaylor@gardner-meadows.com                      Field seismologist   \n",
       "35           hgonzalez@mcdowell.com             Lecturer, further education   \n",
       "47                 zrocha@glenn.org                      Facilities manager   \n",
       "126       butlerloretta@aguirre.com                 Insurance risk surveyor   \n",
       "128        robertcamacho@nelson.com                               Homeopath   \n",
       "145       brianlee@mosley-brown.com             Community education officer   \n",
       "165         christopher74@gmail.com                 Water quality scientist   \n",
       "177               zwilson@yahoo.com                             Chiropodist   \n",
       "179               ffisher@scott.com                       Psychiatric nurse   \n",
       "193                stacy72@cruz.com                         Energy engineer   \n",
       "202              thomas52@yahoo.com                       Software engineer   \n",
       "231            victor94@griffin.com                         Theatre manager   \n",
       "237         thompsonkayla@yahoo.com                               Solicitor   \n",
       "280               hfarley@hicks.com                              Ergonomist   \n",
       "304      michellepetersen@brown.com                       Financial adviser   \n",
       "351             david58@hotmail.com                       Market researcher   \n",
       "372             amberhull@jones.net        Training and development officer   \n",
       "387             fbeck@velasquez.net                      Wellsite geologist   \n",
       "388          ocarlson@figueroa.info                     Visual merchandiser   \n",
       "391      jasonrobinson@osborne.info            Designer, industrial/product   \n",
       "405                udavis@yahoo.com                            Youth worker   \n",
       "423       lauriedaniels@hotmail.com                             Hydrologist   \n",
       "437          mirandajill@foster.net        Armed forces operational officer   \n",
       "451        richardfrazier@yahoo.com                      Engineer, drilling   \n",
       "466          lorraineochoa@reed.com                     Automotive engineer   \n",
       "474              adam83@johnson.com                     Call centre manager   \n",
       "493             brocksean@gmail.com                    Community pharmacist   \n",
       "...                             ...                                     ...   \n",
       "9465        bryan85@hall-harris.biz                    Biochemist, clinical   \n",
       "9473      gbaxter@fuentes-grant.com                  Leisure centre manager   \n",
       "9474           albert99@hotmail.com                Insurance claims handler   \n",
       "9486        stevenjones@hotmail.com                        Industrial buyer   \n",
       "9494   uthomas@gutierrez-barber.com              Television camera operator   \n",
       "9533      andrewpatterson@gmail.com                     Broadcast presenter   \n",
       "9537         coxkelly@lee-hicks.net                Engineer, communications   \n",
       "9569             yross@townsend.org    English as a second language teacher   \n",
       "9604       marshrebecca@hotmail.com                            Nurse, adult   \n",
       "9626  collinsjames@miller-adams.net              Lecturer, higher education   \n",
       "9644             shelby01@gmail.com                             Adult nurse   \n",
       "9655      williamsmelanie@yahoo.com                  Race relations officer   \n",
       "9658         stanley83@chandler.com                               Solicitor   \n",
       "9675         oreed@palmer-henry.com                 Agricultural consultant   \n",
       "9715     deckerkimberly@hotmail.com              Building services engineer   \n",
       "9725         jessicablack@gmail.com  Research scientist (physical sciences)   \n",
       "9766  williamscassandra@kennedy.com                         Publishing copy   \n",
       "9793             mary71@hotmail.com                     Exhibition designer   \n",
       "9811          stuartlewis@yahoo.com                      Secretary, company   \n",
       "9812    elizabethhayes@williams.com                           Media planner   \n",
       "9834            ctrevino@powell.com                      Petroleum engineer   \n",
       "9853           pauldorsey@yahoo.com                          Teacher, music   \n",
       "9856      brendastewart@dalton.info                           Site engineer   \n",
       "9862            hherrera@brown.info                     Solicitor, Scotland   \n",
       "9880            katrina03@yahoo.com        Training and development officer   \n",
       "9885      mitchellricky@hotmail.com                         Patent attorney   \n",
       "9886       samanthasims@hotmail.com                           Social worker   \n",
       "9934            popejames@yahoo.com               Consulting civil engineer   \n",
       "9958         reynoldsrick@yahoo.com             Industrial/product designer   \n",
       "9967               gina95@gmail.com              Television camera operator   \n",
       "\n",
       "           IP Address Language  Purchase Price  \n",
       "0     149.146.147.205       el           98.14  \n",
       "9       236.198.199.8       zh           95.63  \n",
       "10         26.59.93.1       el           96.89  \n",
       "23     25.193.145.116       ru           97.97  \n",
       "35       216.23.95.40       zh           97.46  \n",
       "47     84.195.175.153       it           97.01  \n",
       "126   244.230.168.191       zh           96.36  \n",
       "128   255.224.209.181       es           97.75  \n",
       "145     61.106.102.37       fr           99.10  \n",
       "165    131.59.200.188       el           95.60  \n",
       "177    167.84.198.199       el           99.72  \n",
       "179   250.182.127.161       fr           99.79  \n",
       "193    189.183.41.220       pt           96.79  \n",
       "202    216.179.195.90       es           99.28  \n",
       "231     156.30.136.26       es           96.70  \n",
       "237    104.183.36.220       fr           97.03  \n",
       "280     134.52.148.32       de           99.13  \n",
       "304     50.126.204.71       en           97.17  \n",
       "351     67.172.52.215       es           95.72  \n",
       "372     198.98.34.250       pt           99.08  \n",
       "387   235.110.187.124       it           98.42  \n",
       "388   221.222.204.132       it           97.13  \n",
       "391    126.62.122.234       es           96.59  \n",
       "405      114.54.66.65       fr           98.62  \n",
       "423     83.74.148.119       ru           98.26  \n",
       "437     92.24.250.160       fr           98.05  \n",
       "451     27.69.206.242       zh           96.77  \n",
       "466     6.120.192.215       en           98.17  \n",
       "474      56.97.99.204       en           96.30  \n",
       "493   252.186.182.231       ru           95.13  \n",
       "...               ...      ...             ...  \n",
       "9465  150.192.215.173       el           97.54  \n",
       "9473   60.198.119.244       en           98.74  \n",
       "9474    222.63.94.140       ru           98.98  \n",
       "9486  249.140.164.163       zh           97.37  \n",
       "9494    11.72.173.107       it           98.95  \n",
       "9533     229.69.55.60       pt           98.38  \n",
       "9537   148.72.194.176       de           98.08  \n",
       "9569   218.156.176.54       en           96.31  \n",
       "9604  138.222.169.103       it           96.73  \n",
       "9626    1.224.229.165       de           97.94  \n",
       "9644    172.38.233.38       it           97.68  \n",
       "9655   219.34.209.227       pt           96.88  \n",
       "9658      61.22.34.78       it           99.45  \n",
       "9675  109.105.206.108       es           98.21  \n",
       "9715     27.56.125.28       en           97.52  \n",
       "9725  202.128.193.116       fr           95.71  \n",
       "9766    179.1.180.136       de           96.04  \n",
       "9793   211.183.163.40       es           99.13  \n",
       "9811   28.104.168.225       it           95.74  \n",
       "9812   242.11.253.235       de           98.04  \n",
       "9834    123.125.18.52       en           96.61  \n",
       "9853    75.202.75.223       el           95.72  \n",
       "9856    96.79.250.154       de           99.97  \n",
       "9862  150.145.204.249       en           98.61  \n",
       "9880   75.198.181.198       it           99.24  \n",
       "9885   72.117.117.228       ru           97.63  \n",
       "9886    55.145.120.78       el           97.36  \n",
       "9934   130.63.250.128       el           99.75  \n",
       "9958      26.86.9.173       en           99.86  \n",
       "9967   120.205.69.231       es           98.42  \n",
       "\n",
       "[505 rows x 14 columns]"
      ]
     },
     "execution_count": 54,
     "metadata": {},
     "output_type": "execute_result"
    }
   ],
   "source": [
    "ecom[ecom['Purchase Price'] > 95]"
   ]
  },
  {
   "cell_type": "code",
   "execution_count": 58,
   "metadata": {},
   "outputs": [
    {
     "data": {
      "text/plain": [
       "Index(['Address', 'Lot', 'AM or PM', 'Browser Info', 'Company', 'Credit Card',\n",
       "       'CC Exp Date', 'CC Security Code', 'CC Provider', 'Email', 'Job',\n",
       "       'IP Address', 'Language', 'Purchase Price'],\n",
       "      dtype='object')"
      ]
     },
     "execution_count": 58,
     "metadata": {},
     "output_type": "execute_result"
    }
   ],
   "source": [
    "ecom.columns"
   ]
  },
  {
   "cell_type": "code",
   "execution_count": 98,
   "metadata": {},
   "outputs": [
    {
     "data": {
      "text/plain": [
       "1033"
      ]
     },
     "execution_count": 98,
     "metadata": {},
     "output_type": "execute_result"
    }
   ],
   "source": [
    "len(ecom[ecom['CC Exp Date'].apply(lambda x: x.split('/')[1] == '25')])"
   ]
  },
  {
   "cell_type": "code",
   "execution_count": 105,
   "metadata": {},
   "outputs": [
    {
     "data": {
      "text/plain": [
       "hotmail.com     1638\n",
       "yahoo.com       1616\n",
       "gmail.com       1605\n",
       "smith.com         42\n",
       "williams.com      37\n",
       "Name: Email, dtype: int64"
      ]
     },
     "execution_count": 105,
     "metadata": {},
     "output_type": "execute_result"
    }
   ],
   "source": [
    "ecom['Email'].apply(lambda x: x.split('@')[1]).value_counts().head()"
   ]
  },
  {
   "cell_type": "code",
   "execution_count": 1,
   "metadata": {},
   "outputs": [],
   "source": [
    "import pandas as pd\n"
   ]
  },
  {
   "cell_type": "code",
   "execution_count": 2,
   "metadata": {},
   "outputs": [],
   "source": [
    "df = pd.read_html('http://ru.ufpa.br/index.php?option=com_content&view=article&id=7')\n"
   ]
  },
  {
   "cell_type": "code",
   "execution_count": 10,
   "metadata": {},
   "outputs": [
    {
     "data": {
      "text/plain": [
       "0                                               ALMOÇO\n",
       "1    FRANGO AO MOLHO VEGETARIANO: MACARRONADA VEGET...\n",
       "2    PICADINHO A JARDINEIRA VEGETARIANO: PICADINHO ...\n",
       "3    FEIJOADA VEGETARIANO: FEIJOADA VEGETARIANA ARR...\n",
       "4    RISOTO DE FRANGO VEGETARIANO: RISOTO VEGETARIA...\n",
       "5    PERNIL AO MOLHO VEGETARIANO: REFOGADO DE LENTI...\n",
       "6                                                  NaN\n",
       "Name: 1, dtype: object"
      ]
     },
     "execution_count": 10,
     "metadata": {},
     "output_type": "execute_result"
    }
   ],
   "source": [
    "df[4][1]"
   ]
  },
  {
   "cell_type": "code",
   "execution_count": 42,
   "metadata": {},
   "outputs": [],
   "source": [
    "def treat(msg):\n",
    "    if 'ARROZ CARRETEIRO' in msg or 'RISOTO DE FRANGO' in msg:\n",
    "        msg = msg.split('FEIJÃO')[0]\n",
    "        print(\"1\")\n",
    "    else:\n",
    "        msg = msg.split('ARROZ')[0]\n",
    "        print(\"2\")\n",
    "    if msg == 'SEM REFEIÇÃO':\n",
    "        a, b = msg, '😢'\n",
    "    else:\n",
    "        a = msg.split('VEGETARIANO:')[0].lower().capitalize()\n",
    "        b = msg.split('VEGETARIANO:')[1].lower().strip().capitalize()\n",
    "    return a, b"
   ]
  },
  {
   "cell_type": "code",
   "execution_count": 47,
   "metadata": {},
   "outputs": [
    {
     "name": "stdout",
     "output_type": "stream",
     "text": [
      "1\n"
     ]
    },
    {
     "data": {
      "text/plain": [
       "('Risoto de frango ', 'Risoto vegetariano')"
      ]
     },
     "execution_count": 47,
     "metadata": {},
     "output_type": "execute_result"
    }
   ],
   "source": [
    "treat(df[4][1][4])"
   ]
  },
  {
   "cell_type": "code",
   "execution_count": 46,
   "metadata": {},
   "outputs": [
    {
     "data": {
      "text/plain": [
       "False"
      ]
     },
     "execution_count": 46,
     "metadata": {},
     "output_type": "execute_result"
    }
   ],
   "source": [
    "'ARROZ CARRETEIRO' in df[4][1][5] or 'RISOTO DE FRANGO' in df[4][1][5]"
   ]
  },
  {
   "cell_type": "code",
   "execution_count": 1,
   "metadata": {},
   "outputs": [
    {
     "data": {
      "text/plain": [
       "Text(0.5, 1.0, 'title')"
      ]
     },
     "execution_count": 1,
     "metadata": {},
     "output_type": "execute_result"
    },
    {
     "data": {
      "image/png": "[encoded data removed]",
      "text/plain": [
       "<Figure size 432x288 with 1 Axes>"
      ]
     },
     "metadata": {
      "needs_background": "light"
     },
     "output_type": "display_data"
    }
   ],
   "source": [
    "import numpy as np\n",
    "x = np.arange(0,100)\n",
    "y = x*2\n",
    "z = x**2\n",
    "\n",
    "import matplotlib.pyplot as plt\n",
    "%matplotlib inline\n",
    "\n",
    "fig  = plt.figure()\n",
    "ax = fig.add_axes([0, 0, 1, 1])\n",
    "ax.plot(x, y, 'b')\n",
    "ax.set_xlabel('x')\n",
    "ax.set_ylabel('y')\n",
    "ax.set_title('title')"
   ]
  },
  {
   "cell_type": "code",
   "execution_count": 2,
   "metadata": {},
   "outputs": [
    {
     "name": "stderr",
     "output_type": "stream",
     "text": [
      "/home/lennon/anaconda3/lib/python3.7/site-packages/matplotlib/figure.py:98: MatplotlibDeprecationWarning: \n",
      "Adding an axes using the same arguments as a previous axes currently reuses the earlier instance.  In a future version, a new instance will always be created and returned.  Meanwhile, this warning can be suppressed, and the future behavior ensured, by passing a unique label to each axes instance.\n",
      "  \"Adding an axes using the same arguments as a previous axes \"\n"
     ]
    },
    {
     "ename": "TypeError",
     "evalue": "from_bounds() takes 4 positional arguments but 6 were given",
     "output_type": "error",
     "traceback": [
      "\u001b[0;31m---------------------------------------------------------------------------\u001b[0m",
      "\u001b[0;31mTypeError\u001b[0m                                 Traceback (most recent call last)",
      "\u001b[0;32m<ipython-input-2-0e9c242018f7>\u001b[0m in \u001b[0;36m<module>\u001b[0;34m\u001b[0m\n\u001b[1;32m      1\u001b[0m \u001b[0max1\u001b[0m \u001b[0;34m=\u001b[0m \u001b[0mfig\u001b[0m\u001b[0;34m.\u001b[0m\u001b[0madd_axes\u001b[0m\u001b[0;34m(\u001b[0m\u001b[0;34m[\u001b[0m\u001b[0;36m0\u001b[0m\u001b[0;34m,\u001b[0m\u001b[0;36m0\u001b[0m\u001b[0;34m,\u001b[0m\u001b[0;36m1\u001b[0m\u001b[0;34m,\u001b[0m\u001b[0;36m1\u001b[0m\u001b[0;34m]\u001b[0m\u001b[0;34m)\u001b[0m\u001b[0;34m\u001b[0m\u001b[0;34m\u001b[0m\u001b[0m\n\u001b[0;32m----> 2\u001b[0;31m \u001b[0max2\u001b[0m \u001b[0;34m=\u001b[0m \u001b[0mfig\u001b[0m\u001b[0;34m.\u001b[0m\u001b[0madd_axes\u001b[0m\u001b[0;34m(\u001b[0m\u001b[0;34m[\u001b[0m\u001b[0;36m0\u001b[0m\u001b[0;34m,\u001b[0m\u001b[0;36m2\u001b[0m\u001b[0;34m,\u001b[0m\u001b[0;36m0\u001b[0m\u001b[0;34m,\u001b[0m\u001b[0;36m5\u001b[0m\u001b[0;34m,\u001b[0m\u001b[0;36m.2\u001b[0m\u001b[0;34m,\u001b[0m\u001b[0;36m.2\u001b[0m\u001b[0;34m]\u001b[0m\u001b[0;34m)\u001b[0m\u001b[0;34m\u001b[0m\u001b[0;34m\u001b[0m\u001b[0m\n\u001b[0m",
      "\u001b[0;32m~/anaconda3/lib/python3.7/site-packages/matplotlib/figure.py\u001b[0m in \u001b[0;36madd_axes\u001b[0;34m(self, *args, **kwargs)\u001b[0m\n\u001b[1;32m   1205\u001b[0m \u001b[0;34m\u001b[0m\u001b[0m\n\u001b[1;32m   1206\u001b[0m             \u001b[0;31m# create the new axes using the axes class given\u001b[0m\u001b[0;34m\u001b[0m\u001b[0;34m\u001b[0m\u001b[0;34m\u001b[0m\u001b[0m\n\u001b[0;32m-> 1207\u001b[0;31m             \u001b[0ma\u001b[0m \u001b[0;34m=\u001b[0m \u001b[0mprojection_class\u001b[0m\u001b[0;34m(\u001b[0m\u001b[0mself\u001b[0m\u001b[0;34m,\u001b[0m \u001b[0mrect\u001b[0m\u001b[0;34m,\u001b[0m \u001b[0;34m**\u001b[0m\u001b[0mkwargs\u001b[0m\u001b[0;34m)\u001b[0m\u001b[0;34m\u001b[0m\u001b[0;34m\u001b[0m\u001b[0m\n\u001b[0m\u001b[1;32m   1208\u001b[0m \u001b[0;34m\u001b[0m\u001b[0m\n\u001b[1;32m   1209\u001b[0m         \u001b[0mself\u001b[0m\u001b[0;34m.\u001b[0m\u001b[0m_axstack\u001b[0m\u001b[0;34m.\u001b[0m\u001b[0madd\u001b[0m\u001b[0;34m(\u001b[0m\u001b[0mkey\u001b[0m\u001b[0;34m,\u001b[0m \u001b[0ma\u001b[0m\u001b[0;34m)\u001b[0m\u001b[0;34m\u001b[0m\u001b[0;34m\u001b[0m\u001b[0m\n",
      "\u001b[0;32m~/anaconda3/lib/python3.7/site-packages/matplotlib/axes/_base.py\u001b[0m in \u001b[0;36m__init__\u001b[0;34m(self, fig, rect, facecolor, frameon, sharex, sharey, label, xscale, yscale, **kwargs)\u001b[0m\n\u001b[1;32m    458\u001b[0m             \u001b[0mself\u001b[0m\u001b[0;34m.\u001b[0m\u001b[0m_position\u001b[0m \u001b[0;34m=\u001b[0m \u001b[0mrect\u001b[0m\u001b[0;34m\u001b[0m\u001b[0;34m\u001b[0m\u001b[0m\n\u001b[1;32m    459\u001b[0m         \u001b[0;32melse\u001b[0m\u001b[0;34m:\u001b[0m\u001b[0;34m\u001b[0m\u001b[0;34m\u001b[0m\u001b[0m\n\u001b[0;32m--> 460\u001b[0;31m             \u001b[0mself\u001b[0m\u001b[0;34m.\u001b[0m\u001b[0m_position\u001b[0m \u001b[0;34m=\u001b[0m \u001b[0mmtransforms\u001b[0m\u001b[0;34m.\u001b[0m\u001b[0mBbox\u001b[0m\u001b[0;34m.\u001b[0m\u001b[0mfrom_bounds\u001b[0m\u001b[0;34m(\u001b[0m\u001b[0;34m*\u001b[0m\u001b[0mrect\u001b[0m\u001b[0;34m)\u001b[0m\u001b[0;34m\u001b[0m\u001b[0;34m\u001b[0m\u001b[0m\n\u001b[0m\u001b[1;32m    461\u001b[0m         \u001b[0;32mif\u001b[0m \u001b[0mself\u001b[0m\u001b[0;34m.\u001b[0m\u001b[0m_position\u001b[0m\u001b[0;34m.\u001b[0m\u001b[0mwidth\u001b[0m \u001b[0;34m<\u001b[0m \u001b[0;36m0\u001b[0m \u001b[0;32mor\u001b[0m \u001b[0mself\u001b[0m\u001b[0;34m.\u001b[0m\u001b[0m_position\u001b[0m\u001b[0;34m.\u001b[0m\u001b[0mheight\u001b[0m \u001b[0;34m<\u001b[0m \u001b[0;36m0\u001b[0m\u001b[0;34m:\u001b[0m\u001b[0;34m\u001b[0m\u001b[0;34m\u001b[0m\u001b[0m\n\u001b[1;32m    462\u001b[0m             \u001b[0;32mraise\u001b[0m \u001b[0mValueError\u001b[0m\u001b[0;34m(\u001b[0m\u001b[0;34m'Width and height specified must be non-negative'\u001b[0m\u001b[0;34m)\u001b[0m\u001b[0;34m\u001b[0m\u001b[0;34m\u001b[0m\u001b[0m\n",
      "\u001b[0;31mTypeError\u001b[0m: from_bounds() takes 4 positional arguments but 6 were given"
     ]
    }
   ],
   "source": [
    "ax1 = fig.add_axes([0,0,1,1])\n",
    "ax2 = fig.add_axes([0,2,0,5,.2,.2])"
   ]
  },
  {
   "cell_type": "code",
   "execution_count": null,
   "metadata": {},
   "outputs": [],
   "source": []
  }
 ],
 "metadata": {
  "kernelspec": {
   "display_name": "Python 3",
   "language": "python",
   "name": "python3"
  },
  "language_info": {
   "codemirror_mode": {
    "name": "ipython",
    "version": 3
   },
   "file_extension": ".py",
   "mimetype": "text/x-python",
   "name": "python",
   "nbconvert_exporter": "python",
   "pygments_lexer": "ipython3",
   "version": "3.7.1"
  }
 },
 "nbformat": 4,
 "nbformat_minor": 2
}
